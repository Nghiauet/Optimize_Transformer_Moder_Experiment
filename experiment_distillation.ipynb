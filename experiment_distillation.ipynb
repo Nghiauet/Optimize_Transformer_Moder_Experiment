{
 "cells": [
  {
   "cell_type": "markdown",
   "metadata": {},
   "source": [
    "# Import lib, login HuggungFace, load dataset"
   ]
  },
  {
   "cell_type": "markdown",
   "metadata": {},
   "source": [
    "## import lib"
   ]
  },
  {
   "cell_type": "code",
   "execution_count": 2,
   "metadata": {},
   "outputs": [
    {
     "name": "stdout",
     "output_type": "stream",
     "text": [
      "device :  cuda:0\n"
     ]
    }
   ],
   "source": [
    "from transformers import pipeline \n",
    "import numpy as np\n",
    "import torch\n",
    "import pandas as pd \n",
    "import matplotlib.pyplot as plt\n",
    "from datasets import load_metric,load_dataset\n",
    "from transformers import AutoTokenizer\n",
    "import torch.nn as nn\n",
    "import torch.nn.functional as F \n",
    "\n",
    "from utils import *\n",
    "device = torch.device(\"cuda:0\" if torch.cuda.is_available() else \"cpu\")\n",
    "print(\"device : \",device)\n"
   ]
  },
  {
   "cell_type": "markdown",
   "metadata": {},
   "source": [
    "## loging to Hugging face"
   ]
  },
  {
   "cell_type": "code",
   "execution_count": 3,
   "metadata": {},
   "outputs": [
    {
     "name": "stdout",
     "output_type": "stream",
     "text": [
      "Token will not been saved to git credential helper. Pass `add_to_git_credential=True` if you want to set the git credential as well.\n",
      "Token is valid (permission: write).\n",
      "Your token has been saved to /home/nghiaph/.cache/huggingface/token\n",
      "Login successful\n"
     ]
    }
   ],
   "source": [
    "# login to hugging face to push model \n",
    "from huggingface_hub import login\n",
    "# load token from file  .env \n",
    "import os\n",
    "from dotenv import load_dotenv\n",
    "load_dotenv()\n",
    "token = os.getenv(\"HF_AUTH_TOKEN\")\n",
    "login(token = token)"
   ]
  },
  {
   "cell_type": "markdown",
   "metadata": {},
   "source": [
    "## Load the dataset"
   ]
  },
  {
   "cell_type": "code",
   "execution_count": 4,
   "metadata": {},
   "outputs": [
    {
     "name": "stderr",
     "output_type": "stream",
     "text": [
      "/tmp/ipykernel_3033465/24118507.py:7: FutureWarning: load_metric is deprecated and will be removed in the next major version of datasets. Use 'evaluate.load' instead, from the new library 🤗 Evaluate: https://huggingface.co/docs/evaluate\n",
      "  accuracy_score = load_metric(\"accuracy\")\n"
     ]
    }
   ],
   "source": [
    "clinc = load_dataset(\"clinc_oos\", \"plus\")\n",
    "intents = clinc[\"train\"].features[\"intent\"]\n",
    "# load the dataset\n",
    "clinc = load_dataset(\"clinc_oos\", \"plus\")\n",
    "intents = clinc[\"train\"].features[\"intent\"]\n",
    "# load metrics\n",
    "accuracy_score = load_metric(\"accuracy\")\n",
    "student_ckpt = \"distilbert-base-uncased\"\n",
    "student_tokenizer = AutoTokenizer.from_pretrained(student_ckpt)\n",
    "\n",
    "# tokenizer the data\n",
    "def tokenizer_text(batch):\n",
    "    return student_tokenizer(batch[\"text\"],truncation=True)\n",
    "clinc_enc = clinc.map(tokenizer_text, batched=True)\n",
    "clinc_enc = clinc_enc.rename_column(\"intent\", \"labels\")"
   ]
  },
  {
   "cell_type": "markdown",
   "metadata": {},
   "source": [
    "## utils"
   ]
  },
  {
   "cell_type": "code",
   "execution_count": 5,
   "metadata": {},
   "outputs": [],
   "source": [
    "\n",
    "def benchmark_the_model(pipe,\n",
    "                  dataset=clinc[\"test\"], \n",
    "                  intents=intents, \n",
    "                  query=\"\"\"I want to transfer money to my friend.\"\"\", \n",
    "                  metric=load_metric(\"accuracy\"),\n",
    "                  optim_type = \"BERT baseline\"):\n",
    "    print(optim_type)\n",
    "    benchmark = PerformanceBenchmark(pipe, dataset, intents, query, metric ,optim_type)\n",
    "    return benchmark.run_benchmark()\n",
    "def compute_metrics(pred):\n",
    "    predictions, labels = pred\n",
    "    predictions = np.argmax(predictions, axis=1)\n",
    "    return accuracy_score.compute(predictions=predictions, references=labels)"
   ]
  },
  {
   "cell_type": "code",
   "execution_count": 6,
   "metadata": {},
   "outputs": [],
   "source": [
    "# iterate over the test set and make predictions\n",
    "# y_true = []\n",
    "# y_pred = []\n",
    "# for example in clinc[\"test\"]:\n",
    "#     y_true.append(example[\"intent\"])\n",
    "#     y_pred.append(pipe(example[\"text\"])[0][\"label\"])\n",
    "#     print('text : ', example[\"text\"])\n",
    "#     print(pipe(example[\"text\"]))\n",
    "#     print(pipe(example[\"text\"])[0][\"label\"])\n",
    "#     break"
   ]
  },
  {
   "cell_type": "markdown",
   "metadata": {},
   "source": [
    "# Baseline model"
   ]
  },
  {
   "cell_type": "markdown",
   "metadata": {},
   "source": [
    "## Load the baseline model "
   ]
  },
  {
   "cell_type": "code",
   "execution_count": 7,
   "metadata": {},
   "outputs": [
    {
     "data": {
      "text/plain": [
       "[{'label': 'transfer', 'score': 0.522346556186676}]"
      ]
     },
     "execution_count": 7,
     "metadata": {},
     "output_type": "execute_result"
    }
   ],
   "source": [
    "bert_ckpt = \"transformersbook/bert-base-uncased-finetuned-clinc\"\n",
    "pipe = pipeline('text-classification', model=bert_ckpt, device=device) \n",
    "query = \"\"\"I want to transfer money to my friend.\"\"\"\n",
    "pipe(query)"
   ]
  },
  {
   "cell_type": "markdown",
   "metadata": {},
   "source": [
    "## Run benchmark and plot results"
   ]
  },
  {
   "cell_type": "code",
   "execution_count": 8,
   "metadata": {},
   "outputs": [
    {
     "name": "stdout",
     "output_type": "stream",
     "text": [
      "BERT baseline\n",
      "Model size (MB) - 418.15\n",
      "[]\n"
     ]
    },
    {
     "name": "stderr",
     "output_type": "stream",
     "text": [
      "/home/nghiaph/GEC/GEC_env/lib/python3.8/site-packages/transformers/pipelines/base.py:1101: UserWarning: You seem to be using the pipelines sequentially on GPU. In order to maximize efficiency please use a dataset\n",
      "  warnings.warn(\n"
     ]
    },
    {
     "name": "stdout",
     "output_type": "stream",
     "text": [
      "Average latency ms - 0.002 +/- 0.048\n",
      "Accuracy on test set - 0.867\n"
     ]
    }
   ],
   "source": [
    "from utils import PerformanceBenchmark , plot_metrics\n",
    "benchmark = PerformanceBenchmark(pipe, clinc[\"test\"], intents, query,load_metric(\"accuracy\"),optim_type=\"BERT baseline\")\n",
    "optim_type = \"BERT baseline\"\n",
    "# perf_metrics.update(benchmark_the_model(pipe= pipe,optim_type = optim_type))\n",
    "perf_metrics = benchmark_the_model(pipe= pipe,optim_type = optim_type)"
   ]
  },
  {
   "cell_type": "code",
   "execution_count": 9,
   "metadata": {},
   "outputs": [
    {
     "data": {
      "image/png": "[encoded data removed]",
      "text/plain": [
       "<Figure size 640x480 with 1 Axes>"
      ]
     },
     "metadata": {},
     "output_type": "display_data"
    }
   ],
   "source": [
    "# plot the base model\n",
    "plot_metrics(perf_metrics, optim_type)"
   ]
  },
  {
   "cell_type": "markdown",
   "metadata": {},
   "source": [
    "# Define training args for training distillation model"
   ]
  },
  {
   "cell_type": "code",
   "execution_count": 10,
   "metadata": {},
   "outputs": [],
   "source": [
    "from transformers import TrainingArguments \n",
    "class DistillationTrainingArguments(TrainingArguments):\n",
    "    def __init__(self, *args, alpha=0.5, temperature = 2.0, **kwargs): \n",
    "        super().__init__(*args, **kwargs)\n",
    "        self.alpha = alpha\n",
    "        self.temperature = temperature"
   ]
  },
  {
   "cell_type": "markdown",
   "metadata": {},
   "source": [
    "## DistillationTrainer"
   ]
  },
  {
   "cell_type": "code",
   "execution_count": 11,
   "metadata": {},
   "outputs": [],
   "source": [
    "from transformers import Trainer\n",
    "class DistillationTrainer(Trainer):\n",
    "    def __init__(self,*arg, teacher_model = None, **kwargs):\n",
    "        super().__init__(*arg, **kwargs)\n",
    "        self.teacher_model = teacher_model \n",
    "    def compute_loss(self, model, inputs, return_outputs=False):\n",
    "        # extract loss from stuent \n",
    "        student_outputs = model(**inputs)\n",
    "        student_logits = student_outputs.logits\n",
    "        student_loss = student_outputs.loss\n",
    "        # extract loss from teacher\n",
    "        with torch.no_grad():\n",
    "            teacher_outputs = self.teacher_model(**inputs)\n",
    "            teacher_logits = teacher_outputs.logits\n",
    "        klloss = nn.KLDivLoss(reduction=\"batchmean\", log_target=False)\n",
    "        loss_kd = klloss(\n",
    "            F.log_softmax(student_logits / self.args.temperature, dim=-1),\n",
    "            F.softmax(teacher_logits / self.args.temperature, dim=-1),\n",
    "        ) * (self.args.temperature ** 2) # scale the loss by temperature\n",
    "        # return weight student loss and kd loss\n",
    "        loss = (1 - self.args.alpha) * student_loss + self.args.alpha * loss_kd\n",
    "        return (loss, student_outputs) if return_outputs else loss\n",
    "        \n"
   ]
  },
  {
   "cell_type": "markdown",
   "metadata": {},
   "source": [
    "## Load the distillation model\n"
   ]
  },
  {
   "cell_type": "code",
   "execution_count": 12,
   "metadata": {},
   "outputs": [],
   "source": [
    "student_ckpt = \"distilbert-base-uncased\"\n",
    "student_tokenizer = AutoTokenizer.from_pretrained(student_ckpt)"
   ]
  },
  {
   "cell_type": "markdown",
   "metadata": {},
   "source": [
    "# Train the distillation model with alpha = 1 \n",
    "(no knowleadge from teacher)"
   ]
  },
  {
   "cell_type": "markdown",
   "metadata": {},
   "source": [
    "### set up training student args"
   ]
  },
  {
   "cell_type": "code",
   "execution_count": 13,
   "metadata": {},
   "outputs": [],
   "source": [
    "BATCH_SIZE  = 1280\n",
    "\n",
    "finetune_ckpt = \"distilbert-base-uncased-fineturned-clinc\"\n",
    "student_training_args = DistillationTrainingArguments(\n",
    "    output_dir=finetune_ckpt,\n",
    "    evaluation_strategy = \"epoch\",\n",
    "    num_train_epochs = 10,\n",
    "    learning_rate = 4e-4,\n",
    "    per_device_train_batch_size = BATCH_SIZE,\n",
    "    per_device_eval_batch_size = BATCH_SIZE,\n",
    "    alpha = 1 , \n",
    "    weight_decay = 0.01, \n",
    "    push_to_hub = True,\n",
    "    logging_steps = 10\n",
    ")\n",
    "id2label = pipe.model.config.id2label\n",
    "label2id = pipe.model.config.label2id"
   ]
  },
  {
   "cell_type": "markdown",
   "metadata": {},
   "source": [
    "### create custom model configuration"
   ]
  },
  {
   "cell_type": "code",
   "execution_count": 14,
   "metadata": {},
   "outputs": [],
   "source": [
    "from transformers import AutoConfig\n",
    "num_labels = intents.num_classes\n",
    "student_config = AutoConfig.from_pretrained(student_ckpt, \n",
    "                                            num_labels=num_labels, \n",
    "                                            id2label=id2label, \n",
    "                                            label2id=label2id\n",
    "                                            \n",
    "                                            )"
   ]
  },
  {
   "cell_type": "code",
   "execution_count": 15,
   "metadata": {},
   "outputs": [],
   "source": [
    "from transformers import AutoModelForSequenceClassification \n",
    "def student_init():\n",
    "    return (AutoModelForSequenceClassification\n",
    "            .from_pretrained(student_ckpt, config = student_config).to(device))"
   ]
  },
  {
   "cell_type": "markdown",
   "metadata": {},
   "source": [
    "## train disllation model alpha =1"
   ]
  },
  {
   "cell_type": "code",
   "execution_count": 16,
   "metadata": {},
   "outputs": [
    {
     "name": "stderr",
     "output_type": "stream",
     "text": [
      "Some weights of DistilBertForSequenceClassification were not initialized from the model checkpoint at distilbert-base-uncased and are newly initialized: ['classifier.bias', 'pre_classifier.bias', 'classifier.weight', 'pre_classifier.weight']\n",
      "You should probably TRAIN this model on a down-stream task to be able to use it for predictions and inference.\n",
      "Some weights of DistilBertForSequenceClassification were not initialized from the model checkpoint at distilbert-base-uncased and are newly initialized: ['classifier.bias', 'pre_classifier.bias', 'classifier.weight', 'pre_classifier.weight']\n",
      "You should probably TRAIN this model on a down-stream task to be able to use it for predictions and inference.\n",
      "You're using a DistilBertTokenizerFast tokenizer. Please note that with a fast tokenizer, using the `__call__` method is faster than using a method to encode the text followed by a call to the `pad` method to get a padded encoding.\n"
     ]
    },
    {
     "data": {
      "text/html": [
       "\n",
       "    <div>\n",
       "      \n",
       "      <progress value='120' max='120' style='width:300px; height:20px; vertical-align: middle;'></progress>\n",
       "      [120/120 02:06, Epoch 10/10]\n",
       "    </div>\n",
       "    <table border=\"1\" class=\"dataframe\">\n",
       "  <thead>\n",
       " <tr style=\"text-align: left;\">\n",
       "      <th>Epoch</th>\n",
       "      <th>Training Loss</th>\n",
       "      <th>Validation Loss</th>\n",
       "      <th>Accuracy</th>\n",
       "    </tr>\n",
       "  </thead>\n",
       "  <tbody>\n",
       "    <tr>\n",
       "      <td>1</td>\n",
       "      <td>1.009200</td>\n",
       "      <td>0.603215</td>\n",
       "      <td>0.488065</td>\n",
       "    </tr>\n",
       "    <tr>\n",
       "      <td>2</td>\n",
       "      <td>0.556100</td>\n",
       "      <td>0.206305</td>\n",
       "      <td>0.787742</td>\n",
       "    </tr>\n",
       "    <tr>\n",
       "      <td>3</td>\n",
       "      <td>0.248100</td>\n",
       "      <td>0.084343</td>\n",
       "      <td>0.897742</td>\n",
       "    </tr>\n",
       "    <tr>\n",
       "      <td>4</td>\n",
       "      <td>0.119400</td>\n",
       "      <td>0.052456</td>\n",
       "      <td>0.922258</td>\n",
       "    </tr>\n",
       "    <tr>\n",
       "      <td>5</td>\n",
       "      <td>0.056300</td>\n",
       "      <td>0.039772</td>\n",
       "      <td>0.932581</td>\n",
       "    </tr>\n",
       "    <tr>\n",
       "      <td>6</td>\n",
       "      <td>0.047400</td>\n",
       "      <td>0.035062</td>\n",
       "      <td>0.936452</td>\n",
       "    </tr>\n",
       "    <tr>\n",
       "      <td>7</td>\n",
       "      <td>0.042300</td>\n",
       "      <td>0.031776</td>\n",
       "      <td>0.935806</td>\n",
       "    </tr>\n",
       "    <tr>\n",
       "      <td>8</td>\n",
       "      <td>0.039700</td>\n",
       "      <td>0.030609</td>\n",
       "      <td>0.937742</td>\n",
       "    </tr>\n",
       "    <tr>\n",
       "      <td>9</td>\n",
       "      <td>0.037800</td>\n",
       "      <td>0.029733</td>\n",
       "      <td>0.938065</td>\n",
       "    </tr>\n",
       "    <tr>\n",
       "      <td>10</td>\n",
       "      <td>0.035900</td>\n",
       "      <td>0.029162</td>\n",
       "      <td>0.938387</td>\n",
       "    </tr>\n",
       "  </tbody>\n",
       "</table><p>"
      ],
      "text/plain": [
       "<IPython.core.display.HTML object>"
      ]
     },
     "metadata": {},
     "output_type": "display_data"
    },
    {
     "data": {
      "text/plain": [
       "TrainOutput(global_step=120, training_loss=0.19196370591719944, metrics={'train_runtime': 127.8736, 'train_samples_per_second': 1192.584, 'train_steps_per_second': 0.938, 'total_flos': 1102691491769280.0, 'train_loss': 0.19196370591719944, 'epoch': 10.0})"
      ]
     },
     "execution_count": 16,
     "metadata": {},
     "output_type": "execute_result"
    }
   ],
   "source": [
    "# load teacher model\n",
    "teacher_ckpt = \"transformersbook/bert-base-uncased-finetuned-clinc\"\n",
    "teacher_model = (AutoModelForSequenceClassification.from_pretrained(teacher_ckpt,\n",
    "                                                                    num_labels = num_labels).to(device))\n",
    "\n",
    "distilbert_trainer = DistillationTrainer(\n",
    "    model_init = student_init,\n",
    "    teacher_model = teacher_model,\n",
    "    args = student_training_args,\n",
    "    train_dataset = clinc_enc[\"train\"],\n",
    "    eval_dataset = clinc_enc[\"validation\"],\n",
    "    compute_metrics = compute_metrics,\n",
    "    tokenizer = student_tokenizer,\n",
    ")\n",
    "distilbert_trainer.train()\n"
   ]
  },
  {
   "cell_type": "code",
   "execution_count": 17,
   "metadata": {},
   "outputs": [
    {
     "data": {
      "application/vnd.jupyter.widget-view+json": {
       "model_id": "48d0c157fb7c472dab41ee38a8354521",
       "version_major": 2,
       "version_minor": 0
      },
      "text/plain": [
       "training_args.bin:   0%|          | 0.00/4.09k [00:00<?, ?B/s]"
      ]
     },
     "metadata": {},
     "output_type": "display_data"
    },
    {
     "data": {
      "text/plain": [
       "'https://huggingface.co/phnghiapro/distilbert-base-uncased-fineturned-clinc/tree/main/'"
      ]
     },
     "execution_count": 17,
     "metadata": {},
     "output_type": "execute_result"
    }
   ],
   "source": [
    "distilbert_trainer.push_to_hub(\"training completed!\")"
   ]
  },
  {
   "cell_type": "code",
   "execution_count": 18,
   "metadata": {},
   "outputs": [],
   "source": [
    "finetune_ckpt = \"phnghiapro/distilbert-base-uncased-fineturned-clinc\"\n",
    "pipe = pipeline('text-classification', model=finetune_ckpt, device=device)\n"
   ]
  },
  {
   "cell_type": "code",
   "execution_count": 19,
   "metadata": {},
   "outputs": [
    {
     "name": "stdout",
     "output_type": "stream",
     "text": [
      "DistilBERT\n",
      "Model size (MB) - 255.88\n",
      "[]\n"
     ]
    },
    {
     "name": "stderr",
     "output_type": "stream",
     "text": [
      "/home/nghiaph/GEC/GEC_env/lib/python3.8/site-packages/transformers/pipelines/base.py:1101: UserWarning: You seem to be using the pipelines sequentially on GPU. In order to maximize efficiency please use a dataset\n",
      "  warnings.warn(\n"
     ]
    },
    {
     "name": "stdout",
     "output_type": "stream",
     "text": [
      "Average latency ms - 0.001 +/- 0.046\n",
      "Accuracy on test set - 0.853\n"
     ]
    }
   ],
   "source": [
    "optim_type = \"DistilBERT\"\n",
    "perf_metrics.update(benchmark_the_model(pipe= pipe,optim_type = optim_type))\n",
    "\n"
   ]
  },
  {
   "cell_type": "markdown",
   "metadata": {},
   "source": [
    "## plot the results model with alpha =1"
   ]
  },
  {
   "cell_type": "code",
   "execution_count": 20,
   "metadata": {},
   "outputs": [
    {
     "data": {
      "text/html": [
       "<div>\n",
       "<style scoped>\n",
       "    .dataframe tbody tr th:only-of-type {\n",
       "        vertical-align: middle;\n",
       "    }\n",
       "\n",
       "    .dataframe tbody tr th {\n",
       "        vertical-align: top;\n",
       "    }\n",
       "\n",
       "    .dataframe thead th {\n",
       "        text-align: right;\n",
       "    }\n",
       "</style>\n",
       "<table border=\"1\" class=\"dataframe\">\n",
       "  <thead>\n",
       "    <tr style=\"text-align: right;\">\n",
       "      <th></th>\n",
       "      <th>size_mb</th>\n",
       "      <th>time_avg_ms</th>\n",
       "      <th>time_std_ms</th>\n",
       "      <th>accuracy</th>\n",
       "    </tr>\n",
       "  </thead>\n",
       "  <tbody>\n",
       "    <tr>\n",
       "      <th>BERT baseline</th>\n",
       "      <td>418.149377</td>\n",
       "      <td>2.450562</td>\n",
       "      <td>0.047590</td>\n",
       "      <td>0.867273</td>\n",
       "    </tr>\n",
       "    <tr>\n",
       "      <th>DistilBERT</th>\n",
       "      <td>255.882840</td>\n",
       "      <td>1.511929</td>\n",
       "      <td>0.045796</td>\n",
       "      <td>0.853273</td>\n",
       "    </tr>\n",
       "  </tbody>\n",
       "</table>\n",
       "</div>"
      ],
      "text/plain": [
       "                  size_mb  time_avg_ms  time_std_ms  accuracy\n",
       "BERT baseline  418.149377     2.450562     0.047590  0.867273\n",
       "DistilBERT     255.882840     1.511929     0.045796  0.853273"
      ]
     },
     "execution_count": 20,
     "metadata": {},
     "output_type": "execute_result"
    }
   ],
   "source": [
    "df = pd.DataFrame.from_dict(perf_metrics, orient='index')\n",
    "df.head()"
   ]
  },
  {
   "cell_type": "code",
   "execution_count": 21,
   "metadata": {},
   "outputs": [
    {
     "data": {
      "image/png": "[encoded data removed]",
      "text/plain": [
       "<Figure size 640x480 with 1 Axes>"
      ]
     },
     "metadata": {},
     "output_type": "display_data"
    }
   ],
   "source": [
    "#plot the metrics\n",
    "plot_metrics(perf_metrics, optim_type)"
   ]
  },
  {
   "cell_type": "markdown",
   "metadata": {},
   "source": [
    "# Train the distillation model with alpha = grid search"
   ]
  },
  {
   "cell_type": "markdown",
   "metadata": {},
   "source": [
    "## Grid Search parameters"
   ]
  },
  {
   "cell_type": "code",
   "execution_count": 22,
   "metadata": {},
   "outputs": [],
   "source": [
    "# def hp_space(trial):\n",
    "#     return {\n",
    "#     \"alpha\": trial.suggest_float(\"alpha\", 0, 1),\n",
    "#     \"temperature\": trial.suggest_int(\"temperature\", 2, 20),\n",
    "#     \"learning_rate\": trial.suggest_float(\"learning_rate\", 3e-4, 5e-4),\n",
    "#     }\n",
    "# best_run = distilbert_trainer.hyperparameter_search(\n",
    "#                                     n_trials=20, \n",
    "#                                     direction=\"maximize\", \n",
    "#                                     hp_space=hp_space)\n",
    "# print(best_run)\n"
   ]
  },
  {
   "cell_type": "code",
   "execution_count": 23,
   "metadata": {},
   "outputs": [],
   "source": [
    "# print(best_run)\n",
    "best_run = {}\n",
    "#BestRun(run_id='0', objective=0.9467741935483871, hyperparameters={'alpha': 0.685702970499929, 'temperature': 3}, run_summary=None)\n",
    "best_run[\"hyperparameters\"] = {'alpha': 0.685702970499929, 'temperature': 3}"
   ]
  },
  {
   "cell_type": "code",
   "execution_count": 24,
   "metadata": {},
   "outputs": [
    {
     "name": "stderr",
     "output_type": "stream",
     "text": [
      "Some weights of the model checkpoint at distilbert-base-uncased were not used when initializing DistilBertForSequenceClassification: ['vocab_transform.bias', 'vocab_layer_norm.weight', 'vocab_transform.weight', 'vocab_layer_norm.bias', 'vocab_projector.bias']\n",
      "- This IS expected if you are initializing DistilBertForSequenceClassification from the checkpoint of a model trained on another task or with another architecture (e.g. initializing a BertForSequenceClassification model from a BertForPreTraining model).\n",
      "- This IS NOT expected if you are initializing DistilBertForSequenceClassification from the checkpoint of a model that you expect to be exactly identical (initializing a BertForSequenceClassification model from a BertForSequenceClassification model).\n",
      "Some weights of DistilBertForSequenceClassification were not initialized from the model checkpoint at distilbert-base-uncased and are newly initialized: ['classifier.bias', 'pre_classifier.bias', 'classifier.weight', 'pre_classifier.weight']\n",
      "You should probably TRAIN this model on a down-stream task to be able to use it for predictions and inference.\n",
      "Some weights of the model checkpoint at distilbert-base-uncased were not used when initializing DistilBertForSequenceClassification: ['vocab_transform.bias', 'vocab_layer_norm.weight', 'vocab_transform.weight', 'vocab_layer_norm.bias', 'vocab_projector.bias']\n",
      "- This IS expected if you are initializing DistilBertForSequenceClassification from the checkpoint of a model trained on another task or with another architecture (e.g. initializing a BertForSequenceClassification model from a BertForPreTraining model).\n",
      "- This IS NOT expected if you are initializing DistilBertForSequenceClassification from the checkpoint of a model that you expect to be exactly identical (initializing a BertForSequenceClassification model from a BertForSequenceClassification model).\n",
      "Some weights of DistilBertForSequenceClassification were not initialized from the model checkpoint at distilbert-base-uncased and are newly initialized: ['classifier.bias', 'pre_classifier.bias', 'classifier.weight', 'pre_classifier.weight']\n",
      "You should probably TRAIN this model on a down-stream task to be able to use it for predictions and inference.\n"
     ]
    },
    {
     "data": {
      "text/html": [
       "\n",
       "    <div>\n",
       "      \n",
       "      <progress value='120' max='120' style='width:300px; height:20px; vertical-align: middle;'></progress>\n",
       "      [120/120 02:08, Epoch 10/10]\n",
       "    </div>\n",
       "    <table border=\"1\" class=\"dataframe\">\n",
       "  <thead>\n",
       " <tr style=\"text-align: left;\">\n",
       "      <th>Epoch</th>\n",
       "      <th>Training Loss</th>\n",
       "      <th>Validation Loss</th>\n",
       "      <th>Accuracy</th>\n",
       "    </tr>\n",
       "  </thead>\n",
       "  <tbody>\n",
       "    <tr>\n",
       "      <td>1</td>\n",
       "      <td>1.969200</td>\n",
       "      <td>1.348570</td>\n",
       "      <td>0.657419</td>\n",
       "    </tr>\n",
       "    <tr>\n",
       "      <td>2</td>\n",
       "      <td>1.186700</td>\n",
       "      <td>0.540853</td>\n",
       "      <td>0.888387</td>\n",
       "    </tr>\n",
       "    <tr>\n",
       "      <td>3</td>\n",
       "      <td>0.561400</td>\n",
       "      <td>0.284472</td>\n",
       "      <td>0.938710</td>\n",
       "    </tr>\n",
       "    <tr>\n",
       "      <td>4</td>\n",
       "      <td>0.295000</td>\n",
       "      <td>0.223382</td>\n",
       "      <td>0.947097</td>\n",
       "    </tr>\n",
       "    <tr>\n",
       "      <td>5</td>\n",
       "      <td>0.172900</td>\n",
       "      <td>0.202132</td>\n",
       "      <td>0.948710</td>\n",
       "    </tr>\n",
       "    <tr>\n",
       "      <td>6</td>\n",
       "      <td>0.157400</td>\n",
       "      <td>0.194220</td>\n",
       "      <td>0.951290</td>\n",
       "    </tr>\n",
       "    <tr>\n",
       "      <td>7</td>\n",
       "      <td>0.147700</td>\n",
       "      <td>0.189532</td>\n",
       "      <td>0.950968</td>\n",
       "    </tr>\n",
       "    <tr>\n",
       "      <td>8</td>\n",
       "      <td>0.144600</td>\n",
       "      <td>0.186990</td>\n",
       "      <td>0.949677</td>\n",
       "    </tr>\n",
       "    <tr>\n",
       "      <td>9</td>\n",
       "      <td>0.140500</td>\n",
       "      <td>0.185560</td>\n",
       "      <td>0.949355</td>\n",
       "    </tr>\n",
       "    <tr>\n",
       "      <td>10</td>\n",
       "      <td>0.138200</td>\n",
       "      <td>0.185177</td>\n",
       "      <td>0.949032</td>\n",
       "    </tr>\n",
       "  </tbody>\n",
       "</table><p>"
      ],
      "text/plain": [
       "<IPython.core.display.HTML object>"
      ]
     },
     "metadata": {},
     "output_type": "display_data"
    },
    {
     "data": {
      "text/plain": [
       "TrainOutput(global_step=120, training_loss=0.43827982544898986, metrics={'train_runtime': 128.9889, 'train_samples_per_second': 1182.273, 'train_steps_per_second': 0.93, 'total_flos': 1102691491769280.0, 'train_loss': 0.43827982544898986, 'epoch': 10.0})"
      ]
     },
     "execution_count": 24,
     "metadata": {},
     "output_type": "execute_result"
    }
   ],
   "source": [
    "# for k,v in best_run.hyperparameters.items():\n",
    "#     setattr(student_training_args, k, v)\n",
    "\n",
    "for k,v in best_run[\"hyperparameters\"].items():\n",
    "    setattr(student_training_args, k, v)\n",
    " \n",
    "# Define a new repository to store our distilled model\n",
    "distilled_ckpt = \"distilbert-base-uncased-distilled-clinc\"\n",
    "student_training_args.output_dir = distilled_ckpt\n",
    "\n",
    "# Create a new Trainer with optimal parameters\n",
    "distil_trainer = DistillationTrainer(\n",
    "    model_init=student_init,\n",
    "    teacher_model=teacher_model, \n",
    "    args=student_training_args,\n",
    "    train_dataset=clinc_enc['train'], \n",
    "    eval_dataset=clinc_enc['validation'],\n",
    "    compute_metrics=compute_metrics, \n",
    "    tokenizer=student_tokenizer\n",
    "    )\n",
    "distil_trainer.train()"
   ]
  },
  {
   "cell_type": "code",
   "execution_count": 25,
   "metadata": {},
   "outputs": [
    {
     "data": {
      "application/vnd.jupyter.widget-view+json": {
       "model_id": "2d48d005bb854d0b9c0577a8af3d1b23",
       "version_major": 2,
       "version_minor": 0
      },
      "text/plain": [
       "training_args.bin:   0%|          | 0.00/4.16k [00:00<?, ?B/s]"
      ]
     },
     "metadata": {},
     "output_type": "display_data"
    },
    {
     "data": {
      "text/plain": [
       "'https://huggingface.co/phnghiapro/distilbert-base-uncased-distilled-clinc/tree/main/'"
      ]
     },
     "execution_count": 25,
     "metadata": {},
     "output_type": "execute_result"
    }
   ],
   "source": [
    "distil_trainer.push_to_hub(\"Training complete\")\n"
   ]
  },
  {
   "cell_type": "markdown",
   "metadata": {},
   "source": [
    "## Benchmark Distilllerd model"
   ]
  },
  {
   "cell_type": "code",
   "execution_count": 26,
   "metadata": {},
   "outputs": [
    {
     "name": "stdout",
     "output_type": "stream",
     "text": [
      "Distillation\n",
      "Model size (MB) - 255.88\n",
      "[]\n"
     ]
    },
    {
     "name": "stderr",
     "output_type": "stream",
     "text": [
      "/home/nghiaph/GEC/GEC_env/lib/python3.8/site-packages/transformers/pipelines/base.py:1101: UserWarning: You seem to be using the pipelines sequentially on GPU. In order to maximize efficiency please use a dataset\n",
      "  warnings.warn(\n"
     ]
    },
    {
     "name": "stdout",
     "output_type": "stream",
     "text": [
      "Average latency ms - 0.002 +/- 0.049\n",
      "Accuracy on test set - 0.877\n"
     ]
    }
   ],
   "source": [
    "distilled_ckpt = \"phnghiapro/distilbert-base-uncased-distilled-clinc\"\n",
    "pipe = pipeline('text-classification', model=distilled_ckpt, device=device)\n",
    "optim_type = \"Distillation\"\n",
    "perf_metrics.update(benchmark_the_model(pipe= pipe,optim_type = optim_type))"
   ]
  },
  {
   "cell_type": "code",
   "execution_count": 27,
   "metadata": {},
   "outputs": [
    {
     "data": {
      "image/png": "[encoded data removed]",
      "text/plain": [
       "<Figure size 640x480 with 1 Axes>"
      ]
     },
     "metadata": {},
     "output_type": "display_data"
    }
   ],
   "source": [
    "plot_metrics(perf_metrics, optim_type)\n"
   ]
  },
  {
   "cell_type": "code",
   "execution_count": null,
   "metadata": {},
   "outputs": [],
   "source": []
  },
  {
   "cell_type": "code",
   "execution_count": null,
   "metadata": {},
   "outputs": [],
   "source": []
  },
  {
   "cell_type": "code",
   "execution_count": null,
   "metadata": {},
   "outputs": [],
   "source": []
  },
  {
   "cell_type": "code",
   "execution_count": null,
   "metadata": {},
   "outputs": [],
   "source": []
  },
  {
   "cell_type": "code",
   "execution_count": null,
   "metadata": {},
   "outputs": [],
   "source": []
  }
 ],
 "metadata": {
  "kernelspec": {
   "display_name": "GEC_env",
   "language": "python",
   "name": "python3"
  },
  "language_info": {
   "codemirror_mode": {
    "name": "ipython",
    "version": 3
   },
   "file_extension": ".py",
   "mimetype": "text/x-python",
   "name": "python",
   "nbconvert_exporter": "python",
   "pygments_lexer": "ipython3",
   "version": "3.8.10"
  },
  "orig_nbformat": 4
 },
 "nbformat": 4,
 "nbformat_minor": 2
}
