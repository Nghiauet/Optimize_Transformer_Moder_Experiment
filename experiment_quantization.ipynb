{
 "cells": [
  {
   "cell_type": "markdown",
   "metadata": {},
   "source": [
    "# Import lib, login HuggungFace, load dataset"
   ]
  },
  {
   "cell_type": "markdown",
   "metadata": {},
   "source": [
    "## import lib"
   ]
  },
  {
   "cell_type": "code",
   "execution_count": 19,
   "metadata": {},
   "outputs": [
    {
     "name": "stdout",
     "output_type": "stream",
     "text": [
      "device :  cpu\n"
     ]
    }
   ],
   "source": [
    "from transformers import pipeline \n",
    "import numpy as np\n",
    "import torch\n",
    "import pandas as pd \n",
    "import matplotlib.pyplot as plt\n",
    "from datasets import load_metric,load_dataset\n",
    "from transformers import AutoTokenizer,AutoModelForSequenceClassification\n",
    "import torch.nn as nn\n",
    "import torch.nn.functional as F \n",
    "\n",
    "from utils import *\n",
    "# device = torch.device(\"cuda:0\" if torch.cuda.is_available() else \"cpu\")\n",
    "device = 'cpu'\n",
    "print(\"device : \",device)\n"
   ]
  },
  {
   "cell_type": "markdown",
   "metadata": {},
   "source": [
    "## loging to Hugging face"
   ]
  },
  {
   "cell_type": "code",
   "execution_count": 2,
   "metadata": {},
   "outputs": [
    {
     "name": "stdout",
     "output_type": "stream",
     "text": [
      "Token will not been saved to git credential helper. Pass `add_to_git_credential=True` if you want to set the git credential as well.\n",
      "Token is valid (permission: write).\n",
      "Your token has been saved to /home/nghiaph/.cache/huggingface/token\n",
      "Login successful\n"
     ]
    }
   ],
   "source": [
    "# login to hugging face to push model \n",
    "from huggingface_hub import login\n",
    "# load token from file  .env \n",
    "import os\n",
    "from dotenv import load_dotenv\n",
    "load_dotenv()\n",
    "token = os.getenv(\"HF_AUTH_TOKEN\")\n",
    "login(token = token)"
   ]
  },
  {
   "cell_type": "markdown",
   "metadata": {},
   "source": [
    "## Load the dataset"
   ]
  },
  {
   "cell_type": "code",
   "execution_count": 22,
   "metadata": {},
   "outputs": [
    {
     "name": "stderr",
     "output_type": "stream",
     "text": [
      "No model was supplied, defaulted to distilbert-base-uncased-finetuned-sst-2-english and revision af0f99b (https://huggingface.co/distilbert-base-uncased-finetuned-sst-2-english).\n",
      "Using a pipeline without specifying a model name and revision in production is not recommended.\n"
     ]
    },
    {
     "data": {
      "application/vnd.jupyter.widget-view+json": {
       "model_id": "cb7e66e6f572471baaff6153a7918441",
       "version_major": 2,
       "version_minor": 0
      },
      "text/plain": [
       "Downloading (…)lve/main/config.json:   0%|          | 0.00/629 [00:00<?, ?B/s]"
      ]
     },
     "metadata": {},
     "output_type": "display_data"
    },
    {
     "data": {
      "application/vnd.jupyter.widget-view+json": {
       "model_id": "bebe14907c6943a691f9704f25fc6986",
       "version_major": 2,
       "version_minor": 0
      },
      "text/plain": [
       "Downloading model.safetensors:   0%|          | 0.00/268M [00:00<?, ?B/s]"
      ]
     },
     "metadata": {},
     "output_type": "display_data"
    },
    {
     "data": {
      "application/vnd.jupyter.widget-view+json": {
       "model_id": "026d026a54944eb4871a78ad6f7a2c12",
       "version_major": 2,
       "version_minor": 0
      },
      "text/plain": [
       "Downloading (…)okenizer_config.json:   0%|          | 0.00/48.0 [00:00<?, ?B/s]"
      ]
     },
     "metadata": {},
     "output_type": "display_data"
    },
    {
     "data": {
      "application/vnd.jupyter.widget-view+json": {
       "model_id": "bae6fcdf2b874b098242c315a58411c6",
       "version_major": 2,
       "version_minor": 0
      },
      "text/plain": [
       "Downloading (…)solve/main/vocab.txt:   0%|          | 0.00/232k [00:00<?, ?B/s]"
      ]
     },
     "metadata": {},
     "output_type": "display_data"
    }
   ],
   "source": [
    "clinc = load_dataset(\"clinc_oos\", \"plus\")\n",
    "intents = clinc[\"train\"].features[\"intent\"]\n",
    "# load the dataset\n",
    "clinc = load_dataset(\"clinc_oos\", \"plus\")\n",
    "intents = clinc[\"train\"].features[\"intent\"]\n",
    "# load metrics\n",
    "accuracy_score = load_metric(\"accuracy\")\n",
    "bert_ckpt = \"phnghiapro/distilbert-base-uncased-distilled-clinc\"\n",
    "\n",
    "pipe = pipeline(\"text-classification\", device='cpu')\n",
    "# tokenizer the data\n",
    "# def tokenizer_text(batch):\n",
    "#     return bert_tokenizer(batch[\"text\"],truncation=True)\n",
    "# clinc_enc = clinc.map(tokenizer_text, batched=True)\n",
    "# clinc_enc = clinc_enc.rename_column(\"intent\", \"labels\")"
   ]
  },
  {
   "cell_type": "markdown",
   "metadata": {},
   "source": [
    "## utils"
   ]
  },
  {
   "cell_type": "code",
   "execution_count": 23,
   "metadata": {},
   "outputs": [],
   "source": [
    "\n",
    "def benchmark_the_model(pipe,\n",
    "                  dataset=clinc[\"test\"], \n",
    "                  intents=intents, \n",
    "                  query=\"\"\"I want to transfer money to my friend.\"\"\", \n",
    "                  metric=load_metric(\"accuracy\"),\n",
    "                  optim_type = \"BERT baseline\"):\n",
    "    print(optim_type)\n",
    "    benchmark = PerformanceBenchmark(pipe, dataset, intents, query, metric ,optim_type)\n",
    "    return benchmark.run_benchmark()\n",
    "def compute_metrics(pred):\n",
    "    predictions, labels = pred\n",
    "    predictions = np.argmax(predictions, axis=1)\n",
    "    return accuracy_score.compute(predictions=predictions, references=labels)"
   ]
  },
  {
   "cell_type": "code",
   "execution_count": 24,
   "metadata": {},
   "outputs": [],
   "source": [
    "# iterate over the test set and make predictions\n",
    "# y_true = []\n",
    "# y_pred = []\n",
    "# for example in clinc[\"test\"]:\n",
    "#     y_true.append(example[\"intent\"])\n",
    "#     y_pred.append(pipe(example[\"text\"])[0][\"label\"])\n",
    "#     print('text : ', example[\"text\"])\n",
    "#     print(pipe(example[\"text\"]))\n",
    "#     print(pipe(example[\"text\"])[0][\"label\"])\n",
    "#     break"
   ]
  },
  {
   "cell_type": "markdown",
   "metadata": {},
   "source": [
    "# Plot the distribution of the weights"
   ]
  },
  {
   "cell_type": "code",
   "execution_count": 25,
   "metadata": {},
   "outputs": [
    {
     "data": {
      "image/png": "[encoded data removed]",
      "text/plain": [
       "<Figure size 640x480 with 1 Axes>"
      ]
     },
     "metadata": {},
     "output_type": "display_data"
    }
   ],
   "source": [
    "state_dict = pipe.model.to('cpu').state_dict()\n",
    "weights = state_dict['distilbert.transformer.layer.0.attention.out_lin.weight']\n",
    "plt.hist(weights.flatten().numpy(), bins=250, range=(-0.2,0.2), edgecolor=\"C0\")\n",
    "plt.show()"
   ]
  },
  {
   "cell_type": "code",
   "execution_count": 26,
   "metadata": {},
   "outputs": [],
   "source": [
    "# value distributed in small range [-0.1, 0.1]\n",
    "zero_point = 0 \n",
    "scale = (weights.max() - weights.min()) / 255 "
   ]
  },
  {
   "cell_type": "code",
   "execution_count": 27,
   "metadata": {},
   "outputs": [
    {
     "data": {
      "text/plain": [
       "tensor([[ -5,  -8,   0,  ...,  -6,  -3,   8],\n",
       "        [  9,   3,   1,  ...,  -4,   8,   0],\n",
       "        [ -9,  -6,   5,  ...,   0,   6,  -3],\n",
       "        ...,\n",
       "        [  5,   1,  12,  ...,   0,   5,  -1],\n",
       "        [  0,  -2, -12,  ...,  12,  -7, -13],\n",
       "        [-12,  -1, -10,  ...,   9,   2,  -2]], dtype=torch.int8)"
      ]
     },
     "execution_count": 27,
     "metadata": {},
     "output_type": "execute_result"
    }
   ],
   "source": [
    "(weights / scale + zero_point).clamp(-128,127).round().char()"
   ]
  },
  {
   "cell_type": "markdown",
   "metadata": {},
   "source": [
    "# Compare time and size when using quantization"
   ]
  },
  {
   "cell_type": "code",
   "execution_count": 28,
   "metadata": {},
   "outputs": [
    {
     "data": {
      "text/plain": [
       "tensor([[ -5,  -8,   0,  ...,  -6,  -3,   8],\n",
       "        [  9,   3,   1,  ...,  -4,   8,   0],\n",
       "        [ -9,  -6,   5,  ...,   0,   6,  -3],\n",
       "        ...,\n",
       "        [  5,   1,  12,  ...,   0,   5,  -1],\n",
       "        [  0,  -2, -12,  ...,  12,  -7, -13],\n",
       "        [-12,  -1, -10,  ...,   9,   2,  -2]], dtype=torch.int8)"
      ]
     },
     "execution_count": 28,
     "metadata": {},
     "output_type": "execute_result"
    }
   ],
   "source": [
    "from torch import quantize_per_tensor \n",
    "dtype = torch.qint8\n",
    "quantized_weights = quantize_per_tensor(weights, scale=scale, zero_point=zero_point, dtype=dtype) \n",
    "quantized_weights.int_repr() \n"
   ]
  },
  {
   "cell_type": "markdown",
   "metadata": {},
   "source": [
    "## compare time "
   ]
  },
  {
   "cell_type": "code",
   "execution_count": 29,
   "metadata": {},
   "outputs": [
    {
     "name": "stdout",
     "output_type": "stream",
     "text": [
      "1.26 ms ± 7.75 µs per loop (mean ± std. dev. of 7 runs, 1,000 loops each)\n"
     ]
    }
   ],
   "source": [
    "%%timeit\n",
    "weights @ weights"
   ]
  },
  {
   "cell_type": "code",
   "execution_count": 30,
   "metadata": {},
   "outputs": [],
   "source": [
    "from torch.nn.quantized import QFunctional \n",
    "q_fn = QFunctional() \n"
   ]
  },
  {
   "cell_type": "code",
   "execution_count": 31,
   "metadata": {},
   "outputs": [
    {
     "name": "stdout",
     "output_type": "stream",
     "text": [
      "96.1 µs ± 323 ns per loop (mean ± std. dev. of 7 runs, 10,000 loops each)\n"
     ]
    }
   ],
   "source": [
    "%%timeit\n",
    "q_fn.mul(quantized_weights, quantized_weights)"
   ]
  },
  {
   "cell_type": "code",
   "execution_count": 32,
   "metadata": {},
   "outputs": [],
   "source": [
    "# (1.26 milliseconds) / (95.9 microseconds) =\n",
    "# 13.1386861\n",
    "# 13 time faster"
   ]
  },
  {
   "cell_type": "markdown",
   "metadata": {},
   "source": [
    "## compare size \n"
   ]
  },
  {
   "cell_type": "code",
   "execution_count": 33,
   "metadata": {},
   "outputs": [
    {
     "data": {
      "text/plain": [
       "3.999755879241598"
      ]
     },
     "execution_count": 33,
     "metadata": {},
     "output_type": "execute_result"
    }
   ],
   "source": [
    "import sys\n",
    "sys.getsizeof(weights.storage()) / sys.getsizeof(quantized_weights.storage())\n",
    "# decrease 4 times in size\n",
    "#3.999755879241598\n"
   ]
  },
  {
   "cell_type": "markdown",
   "metadata": {},
   "source": [
    "# Quantize the model"
   ]
  },
  {
   "cell_type": "code",
   "execution_count": 34,
   "metadata": {},
   "outputs": [],
   "source": [
    "from torch.quantization import quantize_dynamic \n",
    "model = (AutoModelForSequenceClassification.from_pretrained(bert_ckpt))\n",
    "model_quantized = quantize_dynamic(model, {torch.nn.Linear}, dtype=torch.qint8)\n",
    "# model_quantized.to(device)"
   ]
  },
  {
   "cell_type": "markdown",
   "metadata": {},
   "source": [
    "# Plot all the model benchmard"
   ]
  },
  {
   "cell_type": "markdown",
   "metadata": {},
   "source": [
    "### baseline model"
   ]
  },
  {
   "cell_type": "code",
   "execution_count": 35,
   "metadata": {},
   "outputs": [
    {
     "data": {
      "text/plain": [
       "[{'label': 'transfer', 'score': 0.5223466753959656}]"
      ]
     },
     "execution_count": 35,
     "metadata": {},
     "output_type": "execute_result"
    }
   ],
   "source": [
    "bert_ckpt = \"transformersbook/bert-base-uncased-finetuned-clinc\"\n",
    "pipe = pipeline('text-classification', model=bert_ckpt, device='cpu') \n",
    "query = \"\"\"I want to transfer money to my friend.\"\"\"\n",
    "pipe(query)"
   ]
  },
  {
   "cell_type": "code",
   "execution_count": 36,
   "metadata": {},
   "outputs": [
    {
     "name": "stdout",
     "output_type": "stream",
     "text": [
      "BERT baseline\n",
      "Model size (MB) - 418.15\n",
      "[]\n",
      "Average latency ms - 0.010 +/- 0.403\n",
      "Accuracy on test set - 0.867\n"
     ]
    }
   ],
   "source": [
    "from utils import PerformanceBenchmark , plot_metrics\n",
    "\n",
    "benchmark = PerformanceBenchmark(pipe, clinc[\"test\"], intents, query,load_metric(\"accuracy\"),optim_type=\"BERT baseline\")\n",
    "optim_type = \"BERT baseline\"\n",
    "# perf_metrics.update(benchmark_the_model(pipe= pipe,optim_type = optim_type))\n",
    "perf_metrics = benchmark_the_model(pipe= pipe,optim_type = optim_type)"
   ]
  },
  {
   "cell_type": "code",
   "execution_count": 37,
   "metadata": {},
   "outputs": [
    {
     "data": {
      "image/png": "[encoded data removed]",
      "text/plain": [
       "<Figure size 640x480 with 1 Axes>"
      ]
     },
     "metadata": {},
     "output_type": "display_data"
    }
   ],
   "source": [
    "# plot the base model\n",
    "plot_metrics(perf_metrics, optim_type)"
   ]
  },
  {
   "cell_type": "markdown",
   "metadata": {},
   "source": [
    "### DistilBERT"
   ]
  },
  {
   "cell_type": "code",
   "execution_count": 38,
   "metadata": {},
   "outputs": [
    {
     "name": "stdout",
     "output_type": "stream",
     "text": [
      "DistilBERT\n",
      "Model size (MB) - 255.88\n",
      "[]\n",
      "Average latency ms - 0.005 +/- 1.176\n",
      "Accuracy on test set - 0.853\n"
     ]
    }
   ],
   "source": [
    "finetune_ckpt = \"phnghiapro/distilbert-base-uncased-fineturned-clinc\"\n",
    "pipe = pipeline('text-classification', model=finetune_ckpt, device=device)\n",
    "optim_type = \"DistilBERT\"\n",
    "perf_metrics.update(benchmark_the_model(pipe= pipe,optim_type = optim_type))"
   ]
  },
  {
   "cell_type": "markdown",
   "metadata": {},
   "source": [
    "### Distillation "
   ]
  },
  {
   "cell_type": "code",
   "execution_count": 39,
   "metadata": {},
   "outputs": [
    {
     "name": "stdout",
     "output_type": "stream",
     "text": [
      "Distillation\n",
      "Model size (MB) - 255.88\n",
      "[]\n",
      "Average latency ms - 0.007 +/- 1.005\n",
      "Accuracy on test set - 0.877\n"
     ]
    }
   ],
   "source": [
    "distilled_ckpt = \"phnghiapro/distilbert-base-uncased-distilled-clinc\"\n",
    "pipe = pipeline('text-classification', model=distilled_ckpt, device=device)\n",
    "optim_type = \"Distillation\"\n",
    "perf_metrics.update(benchmark_the_model(pipe= pipe,optim_type = optim_type))"
   ]
  },
  {
   "cell_type": "markdown",
   "metadata": {},
   "source": [
    "### Distillation + quantization"
   ]
  },
  {
   "cell_type": "code",
   "execution_count": 40,
   "metadata": {},
   "outputs": [
    {
     "name": "stdout",
     "output_type": "stream",
     "text": [
      "Distillation + quantization\n",
      "Model size (MB) - 132.39\n",
      "[]\n",
      "Average latency ms - 0.004 +/- 0.146\n",
      "Accuracy on test set - 0.877\n"
     ]
    }
   ],
   "source": [
    "optim_type = \"Distillation + quantization\"\n",
    "model_ckpt = \"phnghiapro/distilbert-base-uncased-distilled-clinc\"\n",
    "tokenizer = AutoTokenizer.from_pretrained(model_ckpt)\n",
    "pipe = pipeline(\"text-classification\",\n",
    "                model=model_quantized,\n",
    "                tokenizer=tokenizer,\n",
    "                device='cpu'\n",
    "                )\n",
    "perf_metrics.update(benchmark_the_model(pipe= pipe,optim_type = optim_type))"
   ]
  },
  {
   "cell_type": "code",
   "execution_count": 41,
   "metadata": {},
   "outputs": [
    {
     "data": {
      "image/png": "[encoded data removed]",
      "text/plain": [
       "<Figure size 640x480 with 1 Axes>"
      ]
     },
     "metadata": {},
     "output_type": "display_data"
    }
   ],
   "source": [
    "plot_metrics(perf_metrics, optim_type)"
   ]
  },
  {
   "cell_type": "markdown",
   "metadata": {},
   "source": [
    "# Optimization by ONNX"
   ]
  },
  {
   "cell_type": "code",
   "execution_count": 44,
   "metadata": {},
   "outputs": [],
   "source": [
    "import os \n",
    "from psutil import cpu_count \n",
    "os.environ[\"OMP_NUM_THREADS\"] = f\"{cpu_count()}\"\n",
    "os.environ[\"OMP_WAIT_POLICY\"] = 'ACTIVE'\n"
   ]
  },
  {
   "cell_type": "code",
   "execution_count": 46,
   "metadata": {},
   "outputs": [
    {
     "name": "stdout",
     "output_type": "stream",
     "text": [
      "ONNX opset version set to: 12\n",
      "Loading pipeline (model: transformersbook/distilbert-base-uncased-distilled-clinc, tokenizer: DistilBertTokenizerFast(name_or_path='phnghiapro/distilbert-base-uncased-distilled-clinc', vocab_size=30522, model_max_length=512, is_fast=True, padding_side='right', truncation_side='right', special_tokens={'unk_token': '[UNK]', 'sep_token': '[SEP]', 'pad_token': '[PAD]', 'cls_token': '[CLS]', 'mask_token': '[MASK]'}, clean_up_tokenization_spaces=True))\n",
      "Creating folder onnx\n",
      "Using framework PyTorch: 2.0.1+cu117\n",
      "Found input input_ids with shape: {0: 'batch', 1: 'sequence'}\n",
      "Found input attention_mask with shape: {0: 'batch', 1: 'sequence'}\n",
      "Found output output_0 with shape: {0: 'batch'}\n",
      "Ensuring inputs are in correct order\n",
      "head_mask is not present in the generated input list.\n",
      "Generated inputs order: ['input_ids', 'attention_mask']\n"
     ]
    },
    {
     "name": "stderr",
     "output_type": "stream",
     "text": [
      "/home/nghiaph/GEC/GEC_env/lib/python3.8/site-packages/transformers/models/distilbert/modeling_distilbert.py:223: TracerWarning: torch.tensor results are registered as constants in the trace. You can safely ignore this warning if you use this function to create tensors out of constant variables that would be the same every time you call this function. In any other case, this might cause the trace to be incorrect.\n",
      "  mask, torch.tensor(torch.finfo(scores.dtype).min)\n"
     ]
    },
    {
     "name": "stdout",
     "output_type": "stream",
     "text": [
      "============= Diagnostic Run torch.onnx.export version 2.0.1+cu117 =============\n",
      "verbose: False, log level: Level.ERROR\n",
      "======================= 0 NONE 0 NOTE 0 WARNING 0 ERROR ========================\n",
      "\n"
     ]
    }
   ],
   "source": [
    "from transformers.convert_graph_to_onnx import convert\n",
    "model_ckpt = \"transformersbook/distilbert-base-uncased-distilled-clinc\"\n",
    "onnx_model_path = Path(\"onnx/model.onnx\")\n",
    "convert(framework=\"pt\", model=model_ckpt, tokenizer=tokenizer,\n",
    "    output=onnx_model_path, opset=12, pipeline_name=\"text-classification\")"
   ]
  },
  {
   "cell_type": "code",
   "execution_count": 47,
   "metadata": {},
   "outputs": [],
   "source": [
    "from onnxruntime import (GraphOptimizationLevel, InferenceSession,\n",
    " SessionOptions)\n",
    "def create_model_for_provider(model_path, provider=\"CPUExecutionProvider\"):\n",
    "    options = SessionOptions()\n",
    "    # options.intra_op_num_threads = 1\n",
    "    options.graph_optimization_level = GraphOptimizationLevel.ORT_ENABLE_ALL\n",
    "    session = InferenceSession(str(model_path), options, providers=[provider])\n",
    "    session.disable_fallback()\n",
    "    return session\n",
    "onnx_model = create_model_for_provider(onnx_model_path)"
   ]
  },
  {
   "cell_type": "code",
   "execution_count": 48,
   "metadata": {},
   "outputs": [
    {
     "data": {
      "application/vnd.jupyter.widget-view+json": {
       "model_id": "b4cfad2f2e384e80bfb1aa841eed5ab6",
       "version_major": 2,
       "version_minor": 0
      },
      "text/plain": [
       "Map:   0%|          | 0/15250 [00:00<?, ? examples/s]"
      ]
     },
     "metadata": {},
     "output_type": "display_data"
    },
    {
     "data": {
      "application/vnd.jupyter.widget-view+json": {
       "model_id": "8dfc9aca7a6c42c899b9be795e7dc74f",
       "version_major": 2,
       "version_minor": 0
      },
      "text/plain": [
       "Map:   0%|          | 0/3100 [00:00<?, ? examples/s]"
      ]
     },
     "metadata": {},
     "output_type": "display_data"
    },
    {
     "data": {
      "application/vnd.jupyter.widget-view+json": {
       "model_id": "b1b9ec63db094fffa9ab3c180dd0f652",
       "version_major": 2,
       "version_minor": 0
      },
      "text/plain": [
       "Map:   0%|          | 0/5500 [00:00<?, ? examples/s]"
      ]
     },
     "metadata": {},
     "output_type": "display_data"
    }
   ],
   "source": [
    "from datasets import load_metric,load_dataset\n",
    "\n",
    "clinc = load_dataset(\"clinc_oos\", \"plus\")\n",
    "def tokenizer_text(batch):\n",
    "    return tokenizer(batch[\"text\"],truncation=True)\n",
    "clinc_enc = clinc.map(tokenizer_text, batched=True)\n",
    "clinc_enc = clinc_enc.rename_column(\"intent\", \"labels\")"
   ]
  },
  {
   "cell_type": "code",
   "execution_count": 49,
   "metadata": {},
   "outputs": [],
   "source": [
    "inputs = clinc_enc[\"test\"][:1] #{'input_ids': [[101, 2129, 2052, 2017, 2360, 4875, 1999, 3059, 102]], 'attention_mask': [[1, 1, 1, 1, 1, 1, 1, 1, 1]]}\n",
    "del inputs[\"labels\"]\n",
    "del inputs[\"text\"]"
   ]
  },
  {
   "cell_type": "code",
   "execution_count": 55,
   "metadata": {},
   "outputs": [
    {
     "name": "stdout",
     "output_type": "stream",
     "text": [
      "(1, 151)\n",
      "61\n",
      "translate\n"
     ]
    }
   ],
   "source": [
    "logits_onnx = onnx_model.run(None, inputs)[0] #(1, 151)\n",
    "print(logits_onnx.shape)\n",
    "print(np.argmax(logits_onnx))\n",
    "print(intents.int2str(int(np.argmax(logits_onnx))))"
   ]
  },
  {
   "cell_type": "markdown",
   "metadata": {},
   "source": [
    "## Onnx Pipeline \n"
   ]
  },
  {
   "cell_type": "code",
   "execution_count": null,
   "metadata": {},
   "outputs": [
    {
     "data": {
      "text/plain": [
       "[{'label': 'order', 'score': 0.19629458}]"
      ]
     },
     "execution_count": 159,
     "metadata": {},
     "output_type": "execute_result"
    }
   ],
   "source": [
    "# create ONNX pipeline \n",
    "from scipy.special import softmax \n",
    "class OnnxPipeline:\n",
    "    def __init__(self, onnx_model,tokenizer):\n",
    "        self.onnx_model = onnx_model\n",
    "        self.tokenizer = tokenizer\n",
    "    def __call__(self, query): \n",
    "        inputs = self.tokenizer(query, return_tensors=\"pt\") # input_ids attention_mask shape (1, seq_len) vs (1, seq_len)\n",
    "        inputs_onnx = {k: v.cpu().detach().numpy() for k, v in inputs.items()}\n",
    "        logits = self.onnx_model.run(None, inputs_onnx)[0][0,:] # shape (n_classes,)\n",
    "        probs = softmax(logits) # shape (n_classes,)\n",
    "        pred_idx = np.argmax(probs).item() # shape ()\n",
    "        return [{\n",
    "                \"label\": intents.int2str(pred_idx),\n",
    "                \"score\": probs[pred_idx]\n",
    "                }]\n",
    "# test the pipeline\n",
    "onnx_pipe = OnnxPipeline(onnx_model,tokenizer)\n",
    "query = \"\"\"onnx_pipe(\"hey, I want to buy a macbook pro\")\"\"\"\n",
    "onnx_pipe(query)\n"
   ]
  },
  {
   "cell_type": "markdown",
   "metadata": {},
   "source": [
    "## Overide compute size method"
   ]
  },
  {
   "cell_type": "code",
   "execution_count": null,
   "metadata": {},
   "outputs": [],
   "source": [
    "class OnnxPerformanceBenchmark(PerformanceBenchmark):\n",
    "    def __init__(self, *arg,model_path, **kwargs):\n",
    "        super().__init__(*arg, **kwargs)\n",
    "        self.model_path = model_path\n",
    "    def compute_size(self):\n",
    "        size_mb = Path(self.model_path).stat().st_size / (1024*1024)\n",
    "        print(f\"Model size MB: {size_mb:.2f} MB\")\n",
    "        return {\"size_mb\": size_mb}"
   ]
  },
  {
   "cell_type": "markdown",
   "metadata": {},
   "source": [
    "# plot benchmark Onnx"
   ]
  },
  {
   "cell_type": "code",
   "execution_count": null,
   "metadata": {},
   "outputs": [],
   "source": [
    "# change key model_size_mb to size_mv \n",
    "# Distillation + ONNX\n",
    "# Model size MB: 255.98 MB\n",
    "# Average latency ms - 0.013 +/- 0.330\n",
    "# Accuracy on test set - 0.868\n",
    "# dict = {\n",
    "#     \"size_mb\" : 255.98,\n",
    "#     \"time_avg_ms\" : 0.013,\n",
    "#     \"accuracy\" : 0.868, \n",
    "#     \"time_std_ms\" : 0.330\n",
    "# }\n",
    "# perf_metrics[\"Distillation + ONNX\"] = dict"
   ]
  },
  {
   "cell_type": "code",
   "execution_count": null,
   "metadata": {},
   "outputs": [
    {
     "name": "stdout",
     "output_type": "stream",
     "text": [
      "Distillation + ONNX\n",
      "Model size MB: 255.98 MB\n",
      "Average latency ms - 0.004 +/- 0.083\n",
      "Accuracy on test set - 0.868\n"
     ]
    }
   ],
   "source": [
    "optim_type = \"Distillation + ONNX\"\n",
    "model_path = \"onnx/model.onnx\"\n",
    "onnx_benchmark = OnnxPerformanceBenchmark(onnx_pipe, clinc[\"test\"], intents, query,load_metric(\"accuracy\"),optim_type=optim_type,model_path=model_path)\n",
    "perf_metrics.update(onnx_benchmark.run_benchmark())"
   ]
  },
  {
   "cell_type": "code",
   "execution_count": null,
   "metadata": {},
   "outputs": [
    {
     "data": {
      "image/png": "[encoded data removed]",
      "text/plain": [
       "<Figure size 640x480 with 1 Axes>"
      ]
     },
     "metadata": {},
     "output_type": "display_data"
    }
   ],
   "source": [
    "plot_metrics(perf_metrics, optim_type)\n"
   ]
  },
  {
   "cell_type": "markdown",
   "metadata": {},
   "source": [
    "# Use ORT to quantization the model\n"
   ]
  },
  {
   "cell_type": "code",
   "execution_count": null,
   "metadata": {},
   "outputs": [
    {
     "name": "stdout",
     "output_type": "stream",
     "text": [
      "Ignore MatMul due to non constant B: /[/distilbert/transformer/layer.0/attention/MatMul]\n",
      "Ignore MatMul due to non constant B: /[/distilbert/transformer/layer.0/attention/MatMul_1]\n",
      "Ignore MatMul due to non constant B: /[/distilbert/transformer/layer.1/attention/MatMul]\n",
      "Ignore MatMul due to non constant B: /[/distilbert/transformer/layer.1/attention/MatMul_1]\n",
      "Ignore MatMul due to non constant B: /[/distilbert/transformer/layer.2/attention/MatMul]\n",
      "Ignore MatMul due to non constant B: /[/distilbert/transformer/layer.2/attention/MatMul_1]\n",
      "Ignore MatMul due to non constant B: /[/distilbert/transformer/layer.3/attention/MatMul]\n",
      "Ignore MatMul due to non constant B: /[/distilbert/transformer/layer.3/attention/MatMul_1]\n",
      "Ignore MatMul due to non constant B: /[/distilbert/transformer/layer.4/attention/MatMul]\n",
      "Ignore MatMul due to non constant B: /[/distilbert/transformer/layer.4/attention/MatMul_1]\n",
      "Ignore MatMul due to non constant B: /[/distilbert/transformer/layer.5/attention/MatMul]\n",
      "Ignore MatMul due to non constant B: /[/distilbert/transformer/layer.5/attention/MatMul_1]\n"
     ]
    }
   ],
   "source": [
    "from onnxruntime.quantization import quantize_dynamic, QuantType\n",
    "model_input = \"onnx/model.onnx\"\n",
    "model_output = \"onnx/model_quantized.onnx\"\n",
    "quantize_dynamic(model_input, model_output, weight_type=QuantType.QInt8)"
   ]
  },
  {
   "cell_type": "code",
   "execution_count": null,
   "metadata": {},
   "outputs": [
    {
     "name": "stdout",
     "output_type": "stream",
     "text": [
      "Distillation + ONNX + quantization\n",
      "Model size MB: 64.33 MB\n",
      "Average latency ms - 0.002 +/- 0.024\n",
      "Accuracy on test set - 0.876\n"
     ]
    }
   ],
   "source": [
    "onnx_quantized_model = create_model_for_provider(model_output)\n",
    "onnx_quantized_pipe = OnnxPipeline(onnx_quantized_model,tokenizer)\n",
    "optim_type = \"Distillation + ONNX + quantization\"\n",
    "print(optim_type)\n",
    "pb = OnnxPerformanceBenchmark(onnx_quantized_pipe, clinc[\"test\"], optim_type=optim_type,model_path=model_output)\n",
    "perf_metrics.update(pb.run_benchmark())"
   ]
  },
  {
   "cell_type": "code",
   "execution_count": null,
   "metadata": {},
   "outputs": [
    {
     "data": {
      "image/png": "[encoded data removed]",
      "text/plain": [
       "<Figure size 640x480 with 1 Axes>"
      ]
     },
     "metadata": {},
     "output_type": "display_data"
    }
   ],
   "source": [
    "plot_metrics(perf_metrics, optim_type)\n"
   ]
  }
 ],
 "metadata": {
  "kernelspec": {
   "display_name": "GEC_env",
   "language": "python",
   "name": "python3"
  },
  "language_info": {
   "codemirror_mode": {
    "name": "ipython",
    "version": 3
   },
   "file_extension": ".py",
   "mimetype": "text/x-python",
   "name": "python",
   "nbconvert_exporter": "python",
   "pygments_lexer": "ipython3",
   "version": "3.8.10"
  },
  "orig_nbformat": 4
 },
 "nbformat": 4,
 "nbformat_minor": 2
}
