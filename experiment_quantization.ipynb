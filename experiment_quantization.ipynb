{
 "cells": [
  {
   "cell_type": "markdown",
   "metadata": {},
   "source": [
    "# Import libraries"
   ]
  },
  {
   "cell_type": "code",
   "execution_count": 1,
   "metadata": {},
   "outputs": [
    {
     "name": "stderr",
     "output_type": "stream",
     "text": [
      "/home/nghiaph/workspace_nghia/Using_LLaMA_FAISS_and_LangChain_for_Question-Answering/utils.py:9: FutureWarning: load_metric is deprecated and will be removed in the next major version of datasets. Use 'evaluate.load' instead, from the new library 🤗 Evaluate: https://huggingface.co/docs/evaluate\n",
      "  accuracy_score = load_metric(\"accuracy\")\n"
     ]
    },
    {
     "name": "stdout",
     "output_type": "stream",
     "text": [
      "device :  cuda:0\n",
      "device of pipeline :  cuda:0\n"
     ]
    }
   ],
   "source": [
    "from transformers import pipeline \n",
    "import numpy as np\n",
    "import torch\n",
    "import pandas as pd \n",
    "import matplotlib.pyplot as plt\n",
    "from transformers import AutoModelForSequenceClassification, BertForSequenceClassification,AutoTokenizer\n",
    "from utils import *\n",
    "bert_ckpt = \"phnghiapro/distilbert-base-uncased-distilled-clinc\"\n",
    "device = torch.device(\"cuda:0\" if torch.cuda.is_available() else \"cpu\")\n",
    "pipe = pipeline('text-classification', model=bert_ckpt, device=device) \n",
    "print(\"device : \",device)\n",
    "print(\"device of pipeline : \", pipe.model.device)"
   ]
  },
  {
   "cell_type": "markdown",
   "metadata": {},
   "source": [
    "# plot the distribution of the weights"
   ]
  },
  {
   "cell_type": "code",
   "execution_count": 2,
   "metadata": {},
   "outputs": [
    {
     "data": {
      "image/png": "[encoded data removed]",
      "text/plain": [
       "<Figure size 640x480 with 1 Axes>"
      ]
     },
     "metadata": {},
     "output_type": "display_data"
    }
   ],
   "source": [
    "state_dict = pipe.model.to('cpu').state_dict()\n",
    "weights = state_dict['distilbert.transformer.layer.0.attention.out_lin.weight']\n",
    "plt.hist(weights.flatten().numpy(), bins=250, range=(-0.2,0.2), edgecolor=\"C0\")\n",
    "plt.show()"
   ]
  },
  {
   "cell_type": "code",
   "execution_count": 3,
   "metadata": {},
   "outputs": [],
   "source": [
    "# value distributed in small range [-0.1, 0.1]\n",
    "zero_point = 0 \n",
    "scale = (weights.max() - weights.min()) / 255 "
   ]
  },
  {
   "cell_type": "code",
   "execution_count": 4,
   "metadata": {},
   "outputs": [
    {
     "data": {
      "text/plain": [
       "tensor([[ -5,  -8,   0,  ...,  -6,  -4,   8],\n",
       "        [  9,   3,   2,  ...,  -4,   7,   0],\n",
       "        [ -9,  -6,   6,  ...,   1,   5,  -3],\n",
       "        ...,\n",
       "        [  6,   0,  12,  ...,   0,   6,   0],\n",
       "        [  1,  -3, -12,  ...,  12,  -7, -13],\n",
       "        [-12,   0, -10,  ...,   8,   2,   0]], dtype=torch.int8)"
      ]
     },
     "execution_count": 4,
     "metadata": {},
     "output_type": "execute_result"
    }
   ],
   "source": [
    "(weights / scale + zero_point).clamp(-128,127).round().char()"
   ]
  },
  {
   "cell_type": "markdown",
   "metadata": {},
   "source": [
    "# Compare time and size \n"
   ]
  },
  {
   "cell_type": "code",
   "execution_count": 5,
   "metadata": {},
   "outputs": [
    {
     "data": {
      "text/plain": [
       "tensor([[ -5,  -8,   0,  ...,  -6,  -4,   8],\n",
       "        [  9,   3,   2,  ...,  -4,   7,   0],\n",
       "        [ -9,  -6,   6,  ...,   1,   5,  -3],\n",
       "        ...,\n",
       "        [  6,   0,  12,  ...,   0,   6,   0],\n",
       "        [  1,  -3, -12,  ...,  12,  -7, -13],\n",
       "        [-12,   0, -10,  ...,   8,   2,   0]], dtype=torch.int8)"
      ]
     },
     "execution_count": 5,
     "metadata": {},
     "output_type": "execute_result"
    }
   ],
   "source": [
    "from torch import quantize_per_tensor \n",
    "dtype = torch.qint8\n",
    "quantized_weights = quantize_per_tensor(weights, scale=scale, zero_point=zero_point, dtype=dtype) \n",
    "quantized_weights.int_repr() \n"
   ]
  },
  {
   "cell_type": "markdown",
   "metadata": {},
   "source": [
    "## compare time"
   ]
  },
  {
   "cell_type": "code",
   "execution_count": 6,
   "metadata": {},
   "outputs": [],
   "source": [
    "# %%timeit\n",
    "# weights @ weights"
   ]
  },
  {
   "cell_type": "code",
   "execution_count": 7,
   "metadata": {},
   "outputs": [],
   "source": [
    "from torch.nn.quantized import QFunctional \n",
    "q_fn = QFunctional() \n"
   ]
  },
  {
   "cell_type": "code",
   "execution_count": 8,
   "metadata": {},
   "outputs": [],
   "source": [
    "# %%timeit\n",
    "# q_fn.mul(quantized_weights, quantized_weights)"
   ]
  },
  {
   "cell_type": "code",
   "execution_count": 9,
   "metadata": {},
   "outputs": [],
   "source": [
    "# (1.26 milliseconds) / (95.9 microseconds) =\n",
    "# 13.1386861\n",
    "# 13 time faster"
   ]
  },
  {
   "cell_type": "markdown",
   "metadata": {},
   "source": [
    "## compare size \n"
   ]
  },
  {
   "cell_type": "code",
   "execution_count": 10,
   "metadata": {},
   "outputs": [
    {
     "name": "stderr",
     "output_type": "stream",
     "text": [
      "/tmp/ipykernel_2844652/2430007284.py:2: UserWarning: TypedStorage is deprecated. It will be removed in the future and UntypedStorage will be the only storage class. This should only matter to you if you are using storages directly.  To access UntypedStorage directly, use tensor.untyped_storage() instead of tensor.storage()\n",
      "  sys.getsizeof(weights.storage()) / sys.getsizeof(quantized_weights.storage())\n"
     ]
    },
    {
     "data": {
      "text/plain": [
       "3.999755879241598"
      ]
     },
     "execution_count": 10,
     "metadata": {},
     "output_type": "execute_result"
    }
   ],
   "source": [
    "import sys\n",
    "sys.getsizeof(weights.storage()) / sys.getsizeof(quantized_weights.storage())\n",
    "# decrease 4 times in size\n",
    "#3.999755879241598\n"
   ]
  },
  {
   "cell_type": "markdown",
   "metadata": {},
   "source": [
    "# Quantize the model"
   ]
  },
  {
   "cell_type": "code",
   "execution_count": 23,
   "metadata": {},
   "outputs": [],
   "source": [
    "from torch.quantization import quantize_dynamic \n",
    "model = (AutoModelForSequenceClassification.from_pretrained(bert_ckpt))\n",
    "model_quantized = quantize_dynamic(model, {torch.nn.Linear}, dtype=torch.qint8)\n",
    "# model_quantized.to(device)"
   ]
  },
  {
   "cell_type": "markdown",
   "metadata": {},
   "source": [
    "## Plot all the model benchmard"
   ]
  },
  {
   "cell_type": "code",
   "execution_count": 115,
   "metadata": {},
   "outputs": [],
   "source": [
    "# save perf_metrics\n",
    "import json\n",
    "# with open(\"perf_metrics.json\", \"w\") as f:\n",
    "#     json.dump(perf_metrics, f)\n",
    "# load perf_metrics\n",
    "with open(\"perf_metrics.json\", \"r\") as f:\n",
    "    perf_metrics = json.load(f)"
   ]
  },
  {
   "cell_type": "code",
   "execution_count": 29,
   "metadata": {},
   "outputs": [
    {
     "name": "stdout",
     "output_type": "stream",
     "text": [
      "BERT baseline\n",
      "Model size (MB) - 418.15\n",
      "Average latency ms - 0.010 +/- 0.280\n",
      "Accuracy on test set - 0.867\n"
     ]
    }
   ],
   "source": [
    "# from utils import *\n",
    "\n",
    "# #BERT baseline\n",
    "# optim_type = \"BERT baseline\"\n",
    "# print(optim_type)\n",
    "model_ckpt = \"transformersbook/bert-base-uncased-finetuned-clinc\"\n",
    "tokenizer = AutoTokenizer.from_pretrained(model_ckpt)\n",
    "# pipe = pipeline(\"text-classification\",model=model_ckpt,tokenizer=tokenizer,device='cpu')\n",
    "# pb = PerformanceBenchmark(pipe, clinc[\"test\"], optim_type=optim_type)\n",
    "# perf_metrics = pb.run_benchmark()\n",
    "# # perf_metrics.update(pb.run_benchmark())"
   ]
  },
  {
   "cell_type": "code",
   "execution_count": 30,
   "metadata": {},
   "outputs": [
    {
     "name": "stdout",
     "output_type": "stream",
     "text": [
      "Distillation\n",
      "Model size (MB) - 255.88\n",
      "Average latency ms - 0.005 +/- 0.074\n",
      "Accuracy on test set - 0.877\n"
     ]
    }
   ],
   "source": [
    "# #Distillation\n",
    "# optim_type = \"Distillation\"\n",
    "# print(optim_type)\n",
    "# distilled_ckpt = \"phnghiapro/distilbert-base-uncased-distilled-clinc\"\n",
    "# distilled_pipe = pipeline('text-classification', model=distilled_ckpt,device='cpu')\n",
    "# pb = PerformanceBenchmark(distilled_pipe, clinc[\"test\"], optim_type=optim_type)\n",
    "# distilbert_benchmark = PerformanceBenchmark(distilled_pipe, clinc[\"test\"], optim_type)\n",
    "# # perf_metrics = pb.run_benchmark()\n",
    "# perf_metrics.update(distilbert_benchmark.run_benchmark())"
   ]
  },
  {
   "cell_type": "code",
   "execution_count": 34,
   "metadata": {},
   "outputs": [
    {
     "name": "stdout",
     "output_type": "stream",
     "text": [
      "Distillation + quantization\n",
      "Model size (MB) - 132.39\n",
      "Average latency ms - 0.004 +/- 0.150\n",
      "Accuracy on test set - 0.878\n"
     ]
    }
   ],
   "source": [
    "# #Distillation + quantization\n",
    "# optim_type = \"Distillation + quantization\"\n",
    "# print(optim_type)\n",
    "# model_ckpt = \"phnghiapro/distilbert-base-uncased-distilled-clinc\"\n",
    "# tokenizer = AutoTokenizer.from_pretrained(model_ckpt)\n",
    "\n",
    "# pipe = pipeline(\"text-classification\",\n",
    "#                 model=model_quantized,\n",
    "#                 tokenizer=tokenizer,\n",
    "#                 device='cpu'\n",
    "#                 )\n",
    "# pb = PerformanceBenchmark(pipe, clinc[\"test\"], optim_type=optim_type)\n",
    "# # perf_metrics = pb.run_benchmark()\n",
    "# perf_metrics.update(pb.run_benchmark())"
   ]
  },
  {
   "cell_type": "code",
   "execution_count": 40,
   "metadata": {},
   "outputs": [
    {
     "data": {
      "text/plain": [
       "{'BERT baseline': {'size_mb': 418.14669132232666,\n",
       "  'time_avg_ms': 10.054126690374687,\n",
       "  'time_std_ms': 0.2803475094624616,\n",
       "  'accuracy': 0.8672727272727273},\n",
       " 'Distillation': {'size_mb': 255.88143634796143,\n",
       "  'time_avg_ms': 5.309071037918329,\n",
       "  'time_std_ms': 0.07436598707911952,\n",
       "  'accuracy': 0.8765454545454545},\n",
       " 'Distillation + quantization': {'size_mb': 132.3907289505005,\n",
       "  'time_avg_ms': 3.588528042891994,\n",
       "  'time_std_ms': 0.1503000480642237,\n",
       "  'accuracy': 0.8778181818181818}}"
      ]
     },
     "execution_count": 40,
     "metadata": {},
     "output_type": "execute_result"
    }
   ],
   "source": [
    "perf_metrics"
   ]
  },
  {
   "cell_type": "code",
   "execution_count": 41,
   "metadata": {},
   "outputs": [
    {
     "data": {
      "image/png": "[encoded data removed]",
      "text/plain": [
       "<Figure size 640x480 with 1 Axes>"
      ]
     },
     "metadata": {},
     "output_type": "display_data"
    }
   ],
   "source": [
    "plot_metrics(perf_metrics, optim_type)"
   ]
  },
  {
   "cell_type": "markdown",
   "metadata": {},
   "source": [
    "# Experiment ONNX"
   ]
  },
  {
   "cell_type": "code",
   "execution_count": 148,
   "metadata": {},
   "outputs": [],
   "source": [
    "import os \n",
    "from psutil import cpu_count \n",
    "os.environ[\"OMP_NUM_THREADS\"] = f\"{cpu_count()}\"\n",
    "os.environ[\"OMP_WAIT_POLICY\"] = 'ACTIVE'\n"
   ]
  },
  {
   "cell_type": "code",
   "execution_count": 150,
   "metadata": {},
   "outputs": [
    {
     "name": "stderr",
     "output_type": "stream",
     "text": [
      "/home/nghiaph/GEC/GEC_env/lib/python3.8/site-packages/transformers/convert_graph_to_onnx.py:379: FutureWarning: The `transformers.convert_graph_to_onnx` package is deprecated and will be removed in version 5 of Transformers\n",
      "  warnings.warn(\n"
     ]
    },
    {
     "name": "stdout",
     "output_type": "stream",
     "text": [
      "ONNX opset version set to: 12\n",
      "Loading pipeline (model: transformersbook/distilbert-base-uncased-distilled-clinc, tokenizer: DistilBertTokenizerFast(name_or_path='phnghiapro/distilbert-base-uncased-distilled-clinc', vocab_size=30522, model_max_length=512, is_fast=True, padding_side='right', truncation_side='right', special_tokens={'unk_token': '[UNK]', 'sep_token': '[SEP]', 'pad_token': '[PAD]', 'cls_token': '[CLS]', 'mask_token': '[MASK]'}, clean_up_tokenization_spaces=True))\n"
     ]
    },
    {
     "ename": "Exception",
     "evalue": "Folder onnx is not empty, aborting conversion",
     "output_type": "error",
     "traceback": [
      "\u001b[0;31m---------------------------------------------------------------------------\u001b[0m",
      "\u001b[0;31mException\u001b[0m                                 Traceback (most recent call last)",
      "\u001b[1;32m/home/nghiaph/workspace_nghia/Using_LLaMA_FAISS_and_LangChain_for_Question-Answering/experiment_quantization.ipynb Cell 28\u001b[0m line \u001b[0;36m4\n\u001b[1;32m      <a href='vscode-notebook-cell://ssh-remote%2B10.166.128.149/home/nghiaph/workspace_nghia/Using_LLaMA_FAISS_and_LangChain_for_Question-Answering/experiment_quantization.ipynb#X40sdnNjb2RlLXJlbW90ZQ%3D%3D?line=1'>2</a>\u001b[0m model_ckpt \u001b[39m=\u001b[39m \u001b[39m\"\u001b[39m\u001b[39mtransformersbook/distilbert-base-uncased-distilled-clinc\u001b[39m\u001b[39m\"\u001b[39m\n\u001b[1;32m      <a href='vscode-notebook-cell://ssh-remote%2B10.166.128.149/home/nghiaph/workspace_nghia/Using_LLaMA_FAISS_and_LangChain_for_Question-Answering/experiment_quantization.ipynb#X40sdnNjb2RlLXJlbW90ZQ%3D%3D?line=2'>3</a>\u001b[0m onnx_model_path \u001b[39m=\u001b[39m Path(\u001b[39m\"\u001b[39m\u001b[39monnx/model.onnx\u001b[39m\u001b[39m\"\u001b[39m)\n\u001b[0;32m----> <a href='vscode-notebook-cell://ssh-remote%2B10.166.128.149/home/nghiaph/workspace_nghia/Using_LLaMA_FAISS_and_LangChain_for_Question-Answering/experiment_quantization.ipynb#X40sdnNjb2RlLXJlbW90ZQ%3D%3D?line=3'>4</a>\u001b[0m convert(framework\u001b[39m=\u001b[39;49m\u001b[39m\"\u001b[39;49m\u001b[39mpt\u001b[39;49m\u001b[39m\"\u001b[39;49m, model\u001b[39m=\u001b[39;49mmodel_ckpt, tokenizer\u001b[39m=\u001b[39;49mtokenizer,\n\u001b[1;32m      <a href='vscode-notebook-cell://ssh-remote%2B10.166.128.149/home/nghiaph/workspace_nghia/Using_LLaMA_FAISS_and_LangChain_for_Question-Answering/experiment_quantization.ipynb#X40sdnNjb2RlLXJlbW90ZQ%3D%3D?line=4'>5</a>\u001b[0m     output\u001b[39m=\u001b[39;49monnx_model_path, opset\u001b[39m=\u001b[39;49m\u001b[39m12\u001b[39;49m, pipeline_name\u001b[39m=\u001b[39;49m\u001b[39m\"\u001b[39;49m\u001b[39mtext-classification\u001b[39;49m\u001b[39m\"\u001b[39;49m)\n",
      "File \u001b[0;32m~/GEC/GEC_env/lib/python3.8/site-packages/transformers/convert_graph_to_onnx.py:393\u001b[0m, in \u001b[0;36mconvert\u001b[0;34m(framework, model, output, opset, tokenizer, use_external_format, pipeline_name, **model_kwargs)\u001b[0m\n\u001b[1;32m    391\u001b[0m     makedirs(output\u001b[39m.\u001b[39mparent\u001b[39m.\u001b[39mas_posix())\n\u001b[1;32m    392\u001b[0m \u001b[39melif\u001b[39;00m \u001b[39mlen\u001b[39m(listdir(output\u001b[39m.\u001b[39mparent\u001b[39m.\u001b[39mas_posix())) \u001b[39m>\u001b[39m \u001b[39m0\u001b[39m:\n\u001b[0;32m--> 393\u001b[0m     \u001b[39mraise\u001b[39;00m \u001b[39mException\u001b[39;00m(\u001b[39mf\u001b[39m\u001b[39m\"\u001b[39m\u001b[39mFolder \u001b[39m\u001b[39m{\u001b[39;00moutput\u001b[39m.\u001b[39mparent\u001b[39m.\u001b[39mas_posix()\u001b[39m}\u001b[39;00m\u001b[39m is not empty, aborting conversion\u001b[39m\u001b[39m\"\u001b[39m)\n\u001b[1;32m    395\u001b[0m \u001b[39m# Export the graph\u001b[39;00m\n\u001b[1;32m    396\u001b[0m \u001b[39mif\u001b[39;00m framework \u001b[39m==\u001b[39m \u001b[39m\"\u001b[39m\u001b[39mpt\u001b[39m\u001b[39m\"\u001b[39m:\n",
      "\u001b[0;31mException\u001b[0m: Folder onnx is not empty, aborting conversion"
     ]
    }
   ],
   "source": [
    "from transformers.convert_graph_to_onnx import convert\n",
    "model_ckpt = \"transformersbook/distilbert-base-uncased-distilled-clinc\"\n",
    "onnx_model_path = Path(\"onnx/model.onnx\")\n",
    "convert(framework=\"pt\", model=model_ckpt, tokenizer=tokenizer,\n",
    "    output=onnx_model_path, opset=12, pipeline_name=\"text-classification\")"
   ]
  },
  {
   "cell_type": "code",
   "execution_count": 152,
   "metadata": {},
   "outputs": [],
   "source": [
    "from onnxruntime import (GraphOptimizationLevel, InferenceSession,\n",
    " SessionOptions)\n",
    "def create_model_for_provider(model_path, provider=\"CPUExecutionProvider\"):\n",
    "    options = SessionOptions()\n",
    "    # options.intra_op_num_threads = 1\n",
    "    options.graph_optimization_level = GraphOptimizationLevel.ORT_ENABLE_ALL\n",
    "    session = InferenceSession(str(model_path), options, providers=[provider])\n",
    "    session.disable_fallback()\n",
    "    return session\n",
    "onnx_model = create_model_for_provider(onnx_model_path)"
   ]
  },
  {
   "cell_type": "code",
   "execution_count": 153,
   "metadata": {},
   "outputs": [
    {
     "data": {
      "application/vnd.jupyter.widget-view+json": {
       "model_id": "e517d097e3ec446ba4049f031c89f58a",
       "version_major": 2,
       "version_minor": 0
      },
      "text/plain": [
       "Map:   0%|          | 0/3100 [00:00<?, ? examples/s]"
      ]
     },
     "metadata": {},
     "output_type": "display_data"
    }
   ],
   "source": [
    "from datasets import load_metric,load_dataset\n",
    "\n",
    "clinc = load_dataset(\"clinc_oos\", \"plus\")\n",
    "def tokenizer_text(batch):\n",
    "    return tokenizer(batch[\"text\"],truncation=True)\n",
    "clinc_enc = clinc.map(tokenizer_text, batched=True)\n",
    "clinc_enc = clinc_enc.rename_column(\"intent\", \"labels\")"
   ]
  },
  {
   "cell_type": "code",
   "execution_count": 154,
   "metadata": {},
   "outputs": [],
   "source": [
    "inputs = clinc_enc[\"test\"][:1]\n",
    "del inputs[\"labels\"]\n",
    "del inputs[\"text\"]"
   ]
  },
  {
   "cell_type": "code",
   "execution_count": 155,
   "metadata": {},
   "outputs": [
    {
     "name": "stdout",
     "output_type": "stream",
     "text": [
      "{'input_ids': [[101, 2129, 2052, 2017, 2360, 4875, 1999, 3059, 102]], 'attention_mask': [[1, 1, 1, 1, 1, 1, 1, 1, 1]]}\n"
     ]
    }
   ],
   "source": [
    "print(inputs)"
   ]
  },
  {
   "cell_type": "code",
   "execution_count": 156,
   "metadata": {},
   "outputs": [
    {
     "name": "stdout",
     "output_type": "stream",
     "text": [
      "(1, 151)\n"
     ]
    }
   ],
   "source": [
    "logits_onnx = onnx_model.run(None, inputs)[0]\n",
    "print(logits_onnx.shape)"
   ]
  },
  {
   "cell_type": "code",
   "execution_count": 157,
   "metadata": {},
   "outputs": [
    {
     "data": {
      "text/plain": [
       "61"
      ]
     },
     "execution_count": 157,
     "metadata": {},
     "output_type": "execute_result"
    }
   ],
   "source": [
    "np.argmax(logits_onnx)\n"
   ]
  },
  {
   "cell_type": "code",
   "execution_count": 158,
   "metadata": {},
   "outputs": [
    {
     "data": {
      "text/plain": [
       "61"
      ]
     },
     "execution_count": 158,
     "metadata": {},
     "output_type": "execute_result"
    }
   ],
   "source": [
    "clinc_enc[\"test\"][0][\"labels\"]\n"
   ]
  },
  {
   "cell_type": "markdown",
   "metadata": {},
   "source": [
    "# create Onnx Pipeline \n"
   ]
  },
  {
   "cell_type": "code",
   "execution_count": 159,
   "metadata": {},
   "outputs": [
    {
     "data": {
      "text/plain": [
       "[{'label': 'order', 'score': 0.19629458}]"
      ]
     },
     "execution_count": 159,
     "metadata": {},
     "output_type": "execute_result"
    }
   ],
   "source": [
    "# create ONNX pipeline \n",
    "from scipy.special import softmax \n",
    "class OnnxPipeline:\n",
    "    def __init__(self, onnx_model,tokenizer):\n",
    "        self.onnx_model = onnx_model\n",
    "        self.tokenizer = tokenizer\n",
    "    def __call__(self, query): \n",
    "        inputs = self.tokenizer(query, return_tensors=\"pt\") # input_ids attention_mask shape (1, seq_len) vs (1, seq_len)\n",
    "        inputs_onnx = {k: v.cpu().detach().numpy() for k, v in inputs.items()}\n",
    "        logits = self.onnx_model.run(None, inputs_onnx)[0][0,:] # shape (n_classes,)\n",
    "        probs = softmax(logits) # shape (n_classes,)\n",
    "        pred_idx = np.argmax(probs).item() # shape ()\n",
    "        return [{\n",
    "                \"label\": intents.int2str(pred_idx),\n",
    "                \"score\": probs[pred_idx]\n",
    "                }]\n",
    "# test the pipeline\n",
    "onnx_pipe = OnnxPipeline(onnx_model,tokenizer)\n",
    "query = \"\"\"onnx_pipe(\"hey, I want to buy a macbook pro\")\"\"\"\n",
    "onnx_pipe(query)\n"
   ]
  },
  {
   "cell_type": "code",
   "execution_count": 165,
   "metadata": {},
   "outputs": [],
   "source": [
    "class OnnxPerformanceBenchmark(PerformanceBenchmark):\n",
    "    def __init__(self, *arg,model_path, **kwargs):\n",
    "        super().__init__(*arg, **kwargs)\n",
    "        self.model_path = model_path\n",
    "    def compute_size(self):\n",
    "        size_mb = Path(self.model_path).stat().st_size / (1024*1024)\n",
    "        print(f\"Model size MB: {size_mb:.2f} MB\")\n",
    "        return {\"size_mb\": size_mb}"
   ]
  },
  {
   "cell_type": "markdown",
   "metadata": {},
   "source": [
    "# plot benchmark Onnx"
   ]
  },
  {
   "cell_type": "code",
   "execution_count": 166,
   "metadata": {},
   "outputs": [
    {
     "name": "stdout",
     "output_type": "stream",
     "text": [
      "{'BERT baseline': {'size_mb': 418.14669132232666, 'time_avg_ms': 10.054126690374687, 'time_std_ms': 0.2803475094624616, 'accuracy': 0.8672727272727273}, 'Distillation': {'size_mb': 255.88143634796143, 'time_avg_ms': 5.309071037918329, 'time_std_ms': 0.07436598707911952, 'accuracy': 0.8765454545454545}, 'Distillation + quantization': {'size_mb': 132.3907289505005, 'time_avg_ms': 3.588528042891994, 'time_std_ms': 0.1503000480642237, 'accuracy': 0.8778181818181818, 'size_mv': 255.97955417633057}, 'Distillation + ONNX': {'size_mb': 255.98, 'time_avg_ms': 0.013, 'accuracy': 0.868, 'time_std_ms': 0.33}}\n"
     ]
    }
   ],
   "source": [
    "type(perf_metrics)\n",
    "print(perf_metrics)"
   ]
  },
  {
   "cell_type": "code",
   "execution_count": 167,
   "metadata": {},
   "outputs": [
    {
     "data": {
      "text/plain": [
       "{'BERT baseline': {'size_mb': 418.14669132232666,\n",
       "  'time_avg_ms': 10.054126690374687,\n",
       "  'time_std_ms': 0.2803475094624616,\n",
       "  'accuracy': 0.8672727272727273},\n",
       " 'Distillation': {'size_mb': 255.88143634796143,\n",
       "  'time_avg_ms': 5.309071037918329,\n",
       "  'time_std_ms': 0.07436598707911952,\n",
       "  'accuracy': 0.8765454545454545},\n",
       " 'Distillation + quantization': {'size_mb': 132.3907289505005,\n",
       "  'time_avg_ms': 3.588528042891994,\n",
       "  'time_std_ms': 0.1503000480642237,\n",
       "  'accuracy': 0.8778181818181818,\n",
       "  'size_mv': 255.97955417633057},\n",
       " 'Distillation + ONNX': {'size_mb': 255.98,\n",
       "  'time_avg_ms': 0.013,\n",
       "  'accuracy': 0.868,\n",
       "  'time_std_ms': 0.33}}"
      ]
     },
     "execution_count": 167,
     "metadata": {},
     "output_type": "execute_result"
    }
   ],
   "source": [
    "perf_metrics"
   ]
  },
  {
   "cell_type": "code",
   "execution_count": 168,
   "metadata": {},
   "outputs": [],
   "source": [
    "# change key model_size_mb to size_mv \n",
    "# Distillation + ONNX\n",
    "# Model size MB: 255.98 MB\n",
    "# Average latency ms - 0.013 +/- 0.330\n",
    "# Accuracy on test set - 0.868\n",
    "# dict = {\n",
    "#     \"size_mb\" : 255.98,\n",
    "#     \"time_avg_ms\" : 0.013,\n",
    "#     \"accuracy\" : 0.868, \n",
    "#     \"time_std_ms\" : 0.330\n",
    "# }\n",
    "# perf_metrics[\"Distillation + ONNX\"] = dict"
   ]
  },
  {
   "cell_type": "code",
   "execution_count": 169,
   "metadata": {},
   "outputs": [
    {
     "name": "stdout",
     "output_type": "stream",
     "text": [
      "Distillation + ONNX\n",
      "Model size MB: 255.98 MB\n",
      "Average latency ms - 0.004 +/- 0.083\n",
      "Accuracy on test set - 0.868\n"
     ]
    }
   ],
   "source": [
    "optim_type = \"Distillation + ONNX\"\n",
    "print(optim_type)\n",
    "pb = OnnxPerformanceBenchmark(onnx_pipe, clinc[\"test\"], optim_type=optim_type,model_path=onnx_model_path)\n",
    "perf_metrics.update(pb.run_benchmark())"
   ]
  },
  {
   "cell_type": "code",
   "execution_count": 170,
   "metadata": {},
   "outputs": [
    {
     "data": {
      "image/png": "[encoded data removed]",
      "text/plain": [
       "<Figure size 640x480 with 1 Axes>"
      ]
     },
     "metadata": {},
     "output_type": "display_data"
    }
   ],
   "source": [
    "plot_metrics(perf_metrics, optim_type)\n"
   ]
  },
  {
   "cell_type": "markdown",
   "metadata": {},
   "source": [
    "# Use ORT to quantization the model\n"
   ]
  },
  {
   "cell_type": "code",
   "execution_count": 174,
   "metadata": {},
   "outputs": [
    {
     "name": "stdout",
     "output_type": "stream",
     "text": [
      "Ignore MatMul due to non constant B: /[/distilbert/transformer/layer.0/attention/MatMul]\n",
      "Ignore MatMul due to non constant B: /[/distilbert/transformer/layer.0/attention/MatMul_1]\n",
      "Ignore MatMul due to non constant B: /[/distilbert/transformer/layer.1/attention/MatMul]\n",
      "Ignore MatMul due to non constant B: /[/distilbert/transformer/layer.1/attention/MatMul_1]\n",
      "Ignore MatMul due to non constant B: /[/distilbert/transformer/layer.2/attention/MatMul]\n",
      "Ignore MatMul due to non constant B: /[/distilbert/transformer/layer.2/attention/MatMul_1]\n",
      "Ignore MatMul due to non constant B: /[/distilbert/transformer/layer.3/attention/MatMul]\n",
      "Ignore MatMul due to non constant B: /[/distilbert/transformer/layer.3/attention/MatMul_1]\n",
      "Ignore MatMul due to non constant B: /[/distilbert/transformer/layer.4/attention/MatMul]\n",
      "Ignore MatMul due to non constant B: /[/distilbert/transformer/layer.4/attention/MatMul_1]\n",
      "Ignore MatMul due to non constant B: /[/distilbert/transformer/layer.5/attention/MatMul]\n",
      "Ignore MatMul due to non constant B: /[/distilbert/transformer/layer.5/attention/MatMul_1]\n"
     ]
    }
   ],
   "source": [
    "from onnxruntime.quantization import quantize_dynamic, QuantType\n",
    "model_input = \"onnx/model.onnx\"\n",
    "model_output = \"onnx/model_quantized.onnx\"\n",
    "quantize_dynamic(model_input, model_output, weight_type=QuantType.QInt8)"
   ]
  },
  {
   "cell_type": "code",
   "execution_count": 175,
   "metadata": {},
   "outputs": [
    {
     "name": "stdout",
     "output_type": "stream",
     "text": [
      "Distillation + ONNX + quantization\n",
      "Model size MB: 64.33 MB\n",
      "Average latency ms - 0.002 +/- 0.024\n",
      "Accuracy on test set - 0.876\n"
     ]
    }
   ],
   "source": [
    "onnx_quantized_model = create_model_for_provider(model_output)\n",
    "onnx_quantized_pipe = OnnxPipeline(onnx_quantized_model,tokenizer)\n",
    "optim_type = \"Distillation + ONNX + quantization\"\n",
    "print(optim_type)\n",
    "pb = OnnxPerformanceBenchmark(onnx_quantized_pipe, clinc[\"test\"], optim_type=optim_type,model_path=model_output)\n",
    "perf_metrics.update(pb.run_benchmark())"
   ]
  },
  {
   "cell_type": "code",
   "execution_count": 176,
   "metadata": {},
   "outputs": [
    {
     "data": {
      "image/png": "[encoded data removed]",
      "text/plain": [
       "<Figure size 640x480 with 1 Axes>"
      ]
     },
     "metadata": {},
     "output_type": "display_data"
    }
   ],
   "source": [
    "plot_metrics(perf_metrics, optim_type)\n"
   ]
  }
 ],
 "metadata": {
  "kernelspec": {
   "display_name": "GEC_env",
   "language": "python",
   "name": "python3"
  },
  "language_info": {
   "codemirror_mode": {
    "name": "ipython",
    "version": 3
   },
   "file_extension": ".py",
   "mimetype": "text/x-python",
   "name": "python",
   "nbconvert_exporter": "python",
   "pygments_lexer": "ipython3",
   "version": "3.8.10"
  },
  "orig_nbformat": 4
 },
 "nbformat": 4,
 "nbformat_minor": 2
}
